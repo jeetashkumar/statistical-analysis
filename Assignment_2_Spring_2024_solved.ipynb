{
  "cells": [
    {
      "cell_type": "markdown",
      "id": "13934417",
      "metadata": {
        "id": "13934417"
      },
      "source": [
        "# Statistical Intuitions and Applications\n",
        "\n",
        "## Assignment 2 ##"
      ]
    },
    {
      "cell_type": "markdown",
      "id": "98c249e2",
      "metadata": {
        "id": "98c249e2"
      },
      "source": [
        "**Important Information**:\n",
        "\n",
        "In Assignment 2 you will apply the statistical concepts that we've encountered so far in the course to solve FOUR questions related to real-world scenarios. Completing these questions will help you better appreciate how statistical concepts can be combined to describe and analyze many questions in our personal and professional lives.\n",
        "\n",
        "For each question you will first encounter a block of code that generates a dataset for you to work with (similiar to Assignment 1). You will need to save these datasets as csv files.\n",
        "\n",
        "**Submission Requirements**\n",
        "1. Submit all answers along with their corresponding code as a **searchable PDF **.\n",
        "\n",
        "2. All generated csv and .ipynb files must be submitted in a zip-folder as a secondary source.\n",
        "\n",
        "3. Ensure your zip folder contains four csv files (i.e., the csv files for each of the four questions below; YourName.csv, RelianceRetailVisits_ordered.csv, Scores.csv, Vaccinated.csv).\n",
        "\n",
        "4. You may use Jupyter notebook or Colab as per your convenience.\n",
        "\n",
        "5. **You should ONLY use the concepts and techniques covered in the course to generate your answers. Statistical techniques that are NOT covered in the course will NOT be evaluated.**\n",
        "\n",
        "**Note:** Reach out to your instructor for any question regarding csv files, codes, or the zip-folder.  \n",
        "\n",
        "Non-compliance with the above instructions will result in a 0 grade on the relevant portions of the assignment. Your instructor will grade your assignment based on what you submitted. Failure to submit the assignment or submitting an assignment intended for another class will result in a 0 grade, and resubmission will not be allowed. Make sure that you submit your original work. Suspected cases of plagiarism will be treated as potential academic misconduct and will be reported to the College Academic Integrity Committee for a formal investigation. As part of this procedure, your instructor may require you to meet with them for an oral exam on the assignment."
      ]
    },
    {
      "cell_type": "markdown",
      "id": "048ad5be",
      "metadata": {
        "id": "048ad5be"
      },
      "source": [
        "# A. Statistical Intuitions in Mental Health"
      ]
    },
    {
      "cell_type": "markdown",
      "id": "7579effc",
      "metadata": {
        "id": "7579effc"
      },
      "source": [
        "# **Question 1:**\n",
        "\n",
        "We are going to work with a dataset that was collected on mental health issues. In total, 824 individuals (teenagers, college students, housewives, businesses professionals, and other groups) completed the survey. Their data provides valuable insights into the prevalence, and factors associated with, mental health issues in different groups."
      ]
    },
    {
      "cell_type": "markdown",
      "source": [
        "**To Begin**.\n",
        "\n",
        "Run the code below. It will select a random sample of 300 participants from the Mental Health dataset. The code will then generate a CSV file called **Name.csv**. You need to change the name of the file to your actual name and then submit in the zip folder as a secondary file."
      ],
      "metadata": {
        "id": "JYeKmfJbppiW"
      },
      "id": "JYeKmfJbppiW"
    },
    {
      "cell_type": "code",
      "source": [
        "# Load the following libraries so that they can be applied in the subsequent code blocks\n",
        "\n",
        "import numpy as np\n",
        "import pandas as pd\n",
        "import matplotlib.pyplot as plt\n",
        "import random\n",
        "import scipy.stats as stats\n",
        "\n",
        "# Run this code. It will create a csv file containing a random sample of 300 respondents. You will answer the questions below based on this sample.\n",
        "\n",
        "# Look at the code below. Now replace 'Name.csv' with your actual name (e.g., 'Sara.csv'). The code will generate a csv file that you need to submit in the zip folder as secondary file.\n",
        "\n",
        "try:\n",
        "    df = pd.read_csv('Name.csv')        # replace Name with your own name\n",
        "except FileNotFoundError:\n",
        "    original_data = pd.read_csv(\"https://raw.githubusercontent.com/DanaSaleh1003/IDS-103-Spring-2024/main/mental_health_finaldata_1.csv\")\n",
        "    df1=original_data.sample(300)\n",
        "    df1.to_csv('Name.csv')                   # replace Name with your own name\n",
        "    df = pd.read_csv('Name.csv')             # replace Name with your own name\n",
        "    df = pd.DataFrame(df)\n",
        "    df.to_csv('Name.csv')                    # replace Name with your own name\n",
        "\n",
        "df.head()"
      ],
      "metadata": {
        "id": "aYKSp5nHcO2X",
        "colab": {
          "base_uri": "https://localhost:8080/",
          "height": 330
        },
        "outputId": "ad37ebcd-7d98-41da-b12e-ab5ee13d4566"
      },
      "id": "aYKSp5nHcO2X",
      "execution_count": 1,
      "outputs": [
        {
          "output_type": "execute_result",
          "data": {
            "text/plain": [
              "   Unnamed: 0       Age  Gender Occupation        Days_Indoors Growing_Stress  \\\n",
              "0         326  30-Above  Female   Business          15-30 days            Yes   \n",
              "1         769     16-20  Female   Business    Go out Every day            Yes   \n",
              "2          71     25-30    Male  Corporate    Go out Every day            Yes   \n",
              "3         251     16-20    Male  Corporate  More than 2 months            Yes   \n",
              "4         434  30-Above  Female   Business          31-60 days             No   \n",
              "\n",
              "  Quarantine_Frustrations Changes_Habits Mental_Health_History Weight_Change  \\\n",
              "0                     Yes            Yes                   Yes            No   \n",
              "1                     Yes             No                    No           Yes   \n",
              "2                     Yes            Yes                   Yes            No   \n",
              "3                      No            Yes                   Yes           Yes   \n",
              "4                      No            Yes                   Yes           Yes   \n",
              "\n",
              "  Mood_Swings Coping_Struggles Work_Interest Social_Weakness  \n",
              "0        High              Yes           Yes             Yes  \n",
              "1      Medium              Yes           Yes             Yes  \n",
              "2         Low              Yes           Yes              No  \n",
              "3      Medium               No           Yes              No  \n",
              "4         Low              Yes            No             Yes  "
            ],
            "text/html": [
              "\n",
              "  <div id=\"df-231ce0b8-5bfe-4cd7-86e6-6a7e18ac6f0d\" class=\"colab-df-container\">\n",
              "    <div>\n",
              "<style scoped>\n",
              "    .dataframe tbody tr th:only-of-type {\n",
              "        vertical-align: middle;\n",
              "    }\n",
              "\n",
              "    .dataframe tbody tr th {\n",
              "        vertical-align: top;\n",
              "    }\n",
              "\n",
              "    .dataframe thead th {\n",
              "        text-align: right;\n",
              "    }\n",
              "</style>\n",
              "<table border=\"1\" class=\"dataframe\">\n",
              "  <thead>\n",
              "    <tr style=\"text-align: right;\">\n",
              "      <th></th>\n",
              "      <th>Unnamed: 0</th>\n",
              "      <th>Age</th>\n",
              "      <th>Gender</th>\n",
              "      <th>Occupation</th>\n",
              "      <th>Days_Indoors</th>\n",
              "      <th>Growing_Stress</th>\n",
              "      <th>Quarantine_Frustrations</th>\n",
              "      <th>Changes_Habits</th>\n",
              "      <th>Mental_Health_History</th>\n",
              "      <th>Weight_Change</th>\n",
              "      <th>Mood_Swings</th>\n",
              "      <th>Coping_Struggles</th>\n",
              "      <th>Work_Interest</th>\n",
              "      <th>Social_Weakness</th>\n",
              "    </tr>\n",
              "  </thead>\n",
              "  <tbody>\n",
              "    <tr>\n",
              "      <th>0</th>\n",
              "      <td>326</td>\n",
              "      <td>30-Above</td>\n",
              "      <td>Female</td>\n",
              "      <td>Business</td>\n",
              "      <td>15-30 days</td>\n",
              "      <td>Yes</td>\n",
              "      <td>Yes</td>\n",
              "      <td>Yes</td>\n",
              "      <td>Yes</td>\n",
              "      <td>No</td>\n",
              "      <td>High</td>\n",
              "      <td>Yes</td>\n",
              "      <td>Yes</td>\n",
              "      <td>Yes</td>\n",
              "    </tr>\n",
              "    <tr>\n",
              "      <th>1</th>\n",
              "      <td>769</td>\n",
              "      <td>16-20</td>\n",
              "      <td>Female</td>\n",
              "      <td>Business</td>\n",
              "      <td>Go out Every day</td>\n",
              "      <td>Yes</td>\n",
              "      <td>Yes</td>\n",
              "      <td>No</td>\n",
              "      <td>No</td>\n",
              "      <td>Yes</td>\n",
              "      <td>Medium</td>\n",
              "      <td>Yes</td>\n",
              "      <td>Yes</td>\n",
              "      <td>Yes</td>\n",
              "    </tr>\n",
              "    <tr>\n",
              "      <th>2</th>\n",
              "      <td>71</td>\n",
              "      <td>25-30</td>\n",
              "      <td>Male</td>\n",
              "      <td>Corporate</td>\n",
              "      <td>Go out Every day</td>\n",
              "      <td>Yes</td>\n",
              "      <td>Yes</td>\n",
              "      <td>Yes</td>\n",
              "      <td>Yes</td>\n",
              "      <td>No</td>\n",
              "      <td>Low</td>\n",
              "      <td>Yes</td>\n",
              "      <td>Yes</td>\n",
              "      <td>No</td>\n",
              "    </tr>\n",
              "    <tr>\n",
              "      <th>3</th>\n",
              "      <td>251</td>\n",
              "      <td>16-20</td>\n",
              "      <td>Male</td>\n",
              "      <td>Corporate</td>\n",
              "      <td>More than 2 months</td>\n",
              "      <td>Yes</td>\n",
              "      <td>No</td>\n",
              "      <td>Yes</td>\n",
              "      <td>Yes</td>\n",
              "      <td>Yes</td>\n",
              "      <td>Medium</td>\n",
              "      <td>No</td>\n",
              "      <td>Yes</td>\n",
              "      <td>No</td>\n",
              "    </tr>\n",
              "    <tr>\n",
              "      <th>4</th>\n",
              "      <td>434</td>\n",
              "      <td>30-Above</td>\n",
              "      <td>Female</td>\n",
              "      <td>Business</td>\n",
              "      <td>31-60 days</td>\n",
              "      <td>No</td>\n",
              "      <td>No</td>\n",
              "      <td>Yes</td>\n",
              "      <td>Yes</td>\n",
              "      <td>Yes</td>\n",
              "      <td>Low</td>\n",
              "      <td>Yes</td>\n",
              "      <td>No</td>\n",
              "      <td>Yes</td>\n",
              "    </tr>\n",
              "  </tbody>\n",
              "</table>\n",
              "</div>\n",
              "    <div class=\"colab-df-buttons\">\n",
              "\n",
              "  <div class=\"colab-df-container\">\n",
              "    <button class=\"colab-df-convert\" onclick=\"convertToInteractive('df-231ce0b8-5bfe-4cd7-86e6-6a7e18ac6f0d')\"\n",
              "            title=\"Convert this dataframe to an interactive table.\"\n",
              "            style=\"display:none;\">\n",
              "\n",
              "  <svg xmlns=\"http://www.w3.org/2000/svg\" height=\"24px\" viewBox=\"0 -960 960 960\">\n",
              "    <path d=\"M120-120v-720h720v720H120Zm60-500h600v-160H180v160Zm220 220h160v-160H400v160Zm0 220h160v-160H400v160ZM180-400h160v-160H180v160Zm440 0h160v-160H620v160ZM180-180h160v-160H180v160Zm440 0h160v-160H620v160Z\"/>\n",
              "  </svg>\n",
              "    </button>\n",
              "\n",
              "  <style>\n",
              "    .colab-df-container {\n",
              "      display:flex;\n",
              "      gap: 12px;\n",
              "    }\n",
              "\n",
              "    .colab-df-convert {\n",
              "      background-color: #E8F0FE;\n",
              "      border: none;\n",
              "      border-radius: 50%;\n",
              "      cursor: pointer;\n",
              "      display: none;\n",
              "      fill: #1967D2;\n",
              "      height: 32px;\n",
              "      padding: 0 0 0 0;\n",
              "      width: 32px;\n",
              "    }\n",
              "\n",
              "    .colab-df-convert:hover {\n",
              "      background-color: #E2EBFA;\n",
              "      box-shadow: 0px 1px 2px rgba(60, 64, 67, 0.3), 0px 1px 3px 1px rgba(60, 64, 67, 0.15);\n",
              "      fill: #174EA6;\n",
              "    }\n",
              "\n",
              "    .colab-df-buttons div {\n",
              "      margin-bottom: 4px;\n",
              "    }\n",
              "\n",
              "    [theme=dark] .colab-df-convert {\n",
              "      background-color: #3B4455;\n",
              "      fill: #D2E3FC;\n",
              "    }\n",
              "\n",
              "    [theme=dark] .colab-df-convert:hover {\n",
              "      background-color: #434B5C;\n",
              "      box-shadow: 0px 1px 3px 1px rgba(0, 0, 0, 0.15);\n",
              "      filter: drop-shadow(0px 1px 2px rgba(0, 0, 0, 0.3));\n",
              "      fill: #FFFFFF;\n",
              "    }\n",
              "  </style>\n",
              "\n",
              "    <script>\n",
              "      const buttonEl =\n",
              "        document.querySelector('#df-231ce0b8-5bfe-4cd7-86e6-6a7e18ac6f0d button.colab-df-convert');\n",
              "      buttonEl.style.display =\n",
              "        google.colab.kernel.accessAllowed ? 'block' : 'none';\n",
              "\n",
              "      async function convertToInteractive(key) {\n",
              "        const element = document.querySelector('#df-231ce0b8-5bfe-4cd7-86e6-6a7e18ac6f0d');\n",
              "        const dataTable =\n",
              "          await google.colab.kernel.invokeFunction('convertToInteractive',\n",
              "                                                    [key], {});\n",
              "        if (!dataTable) return;\n",
              "\n",
              "        const docLinkHtml = 'Like what you see? Visit the ' +\n",
              "          '<a target=\"_blank\" href=https://colab.research.google.com/notebooks/data_table.ipynb>data table notebook</a>'\n",
              "          + ' to learn more about interactive tables.';\n",
              "        element.innerHTML = '';\n",
              "        dataTable['output_type'] = 'display_data';\n",
              "        await google.colab.output.renderOutput(dataTable, element);\n",
              "        const docLink = document.createElement('div');\n",
              "        docLink.innerHTML = docLinkHtml;\n",
              "        element.appendChild(docLink);\n",
              "      }\n",
              "    </script>\n",
              "  </div>\n",
              "\n",
              "\n",
              "<div id=\"df-37b06fa4-5cc0-47a1-aa56-b0d31825298d\">\n",
              "  <button class=\"colab-df-quickchart\" onclick=\"quickchart('df-37b06fa4-5cc0-47a1-aa56-b0d31825298d')\"\n",
              "            title=\"Suggest charts\"\n",
              "            style=\"display:none;\">\n",
              "\n",
              "<svg xmlns=\"http://www.w3.org/2000/svg\" height=\"24px\"viewBox=\"0 0 24 24\"\n",
              "     width=\"24px\">\n",
              "    <g>\n",
              "        <path d=\"M19 3H5c-1.1 0-2 .9-2 2v14c0 1.1.9 2 2 2h14c1.1 0 2-.9 2-2V5c0-1.1-.9-2-2-2zM9 17H7v-7h2v7zm4 0h-2V7h2v10zm4 0h-2v-4h2v4z\"/>\n",
              "    </g>\n",
              "</svg>\n",
              "  </button>\n",
              "\n",
              "<style>\n",
              "  .colab-df-quickchart {\n",
              "      --bg-color: #E8F0FE;\n",
              "      --fill-color: #1967D2;\n",
              "      --hover-bg-color: #E2EBFA;\n",
              "      --hover-fill-color: #174EA6;\n",
              "      --disabled-fill-color: #AAA;\n",
              "      --disabled-bg-color: #DDD;\n",
              "  }\n",
              "\n",
              "  [theme=dark] .colab-df-quickchart {\n",
              "      --bg-color: #3B4455;\n",
              "      --fill-color: #D2E3FC;\n",
              "      --hover-bg-color: #434B5C;\n",
              "      --hover-fill-color: #FFFFFF;\n",
              "      --disabled-bg-color: #3B4455;\n",
              "      --disabled-fill-color: #666;\n",
              "  }\n",
              "\n",
              "  .colab-df-quickchart {\n",
              "    background-color: var(--bg-color);\n",
              "    border: none;\n",
              "    border-radius: 50%;\n",
              "    cursor: pointer;\n",
              "    display: none;\n",
              "    fill: var(--fill-color);\n",
              "    height: 32px;\n",
              "    padding: 0;\n",
              "    width: 32px;\n",
              "  }\n",
              "\n",
              "  .colab-df-quickchart:hover {\n",
              "    background-color: var(--hover-bg-color);\n",
              "    box-shadow: 0 1px 2px rgba(60, 64, 67, 0.3), 0 1px 3px 1px rgba(60, 64, 67, 0.15);\n",
              "    fill: var(--button-hover-fill-color);\n",
              "  }\n",
              "\n",
              "  .colab-df-quickchart-complete:disabled,\n",
              "  .colab-df-quickchart-complete:disabled:hover {\n",
              "    background-color: var(--disabled-bg-color);\n",
              "    fill: var(--disabled-fill-color);\n",
              "    box-shadow: none;\n",
              "  }\n",
              "\n",
              "  .colab-df-spinner {\n",
              "    border: 2px solid var(--fill-color);\n",
              "    border-color: transparent;\n",
              "    border-bottom-color: var(--fill-color);\n",
              "    animation:\n",
              "      spin 1s steps(1) infinite;\n",
              "  }\n",
              "\n",
              "  @keyframes spin {\n",
              "    0% {\n",
              "      border-color: transparent;\n",
              "      border-bottom-color: var(--fill-color);\n",
              "      border-left-color: var(--fill-color);\n",
              "    }\n",
              "    20% {\n",
              "      border-color: transparent;\n",
              "      border-left-color: var(--fill-color);\n",
              "      border-top-color: var(--fill-color);\n",
              "    }\n",
              "    30% {\n",
              "      border-color: transparent;\n",
              "      border-left-color: var(--fill-color);\n",
              "      border-top-color: var(--fill-color);\n",
              "      border-right-color: var(--fill-color);\n",
              "    }\n",
              "    40% {\n",
              "      border-color: transparent;\n",
              "      border-right-color: var(--fill-color);\n",
              "      border-top-color: var(--fill-color);\n",
              "    }\n",
              "    60% {\n",
              "      border-color: transparent;\n",
              "      border-right-color: var(--fill-color);\n",
              "    }\n",
              "    80% {\n",
              "      border-color: transparent;\n",
              "      border-right-color: var(--fill-color);\n",
              "      border-bottom-color: var(--fill-color);\n",
              "    }\n",
              "    90% {\n",
              "      border-color: transparent;\n",
              "      border-bottom-color: var(--fill-color);\n",
              "    }\n",
              "  }\n",
              "</style>\n",
              "\n",
              "  <script>\n",
              "    async function quickchart(key) {\n",
              "      const quickchartButtonEl =\n",
              "        document.querySelector('#' + key + ' button');\n",
              "      quickchartButtonEl.disabled = true;  // To prevent multiple clicks.\n",
              "      quickchartButtonEl.classList.add('colab-df-spinner');\n",
              "      try {\n",
              "        const charts = await google.colab.kernel.invokeFunction(\n",
              "            'suggestCharts', [key], {});\n",
              "      } catch (error) {\n",
              "        console.error('Error during call to suggestCharts:', error);\n",
              "      }\n",
              "      quickchartButtonEl.classList.remove('colab-df-spinner');\n",
              "      quickchartButtonEl.classList.add('colab-df-quickchart-complete');\n",
              "    }\n",
              "    (() => {\n",
              "      let quickchartButtonEl =\n",
              "        document.querySelector('#df-37b06fa4-5cc0-47a1-aa56-b0d31825298d button');\n",
              "      quickchartButtonEl.style.display =\n",
              "        google.colab.kernel.accessAllowed ? 'block' : 'none';\n",
              "    })();\n",
              "  </script>\n",
              "</div>\n",
              "\n",
              "    </div>\n",
              "  </div>\n"
            ],
            "application/vnd.google.colaboratory.intrinsic+json": {
              "type": "dataframe",
              "variable_name": "df",
              "summary": "{\n  \"name\": \"df\",\n  \"rows\": 300,\n  \"fields\": [\n    {\n      \"column\": \"Unnamed: 0\",\n      \"properties\": {\n        \"dtype\": \"number\",\n        \"std\": 233,\n        \"min\": 7,\n        \"max\": 823,\n        \"num_unique_values\": 300,\n        \"samples\": [\n          746,\n          97,\n          603\n        ],\n        \"semantic_type\": \"\",\n        \"description\": \"\"\n      }\n    },\n    {\n      \"column\": \"Age\",\n      \"properties\": {\n        \"dtype\": \"category\",\n        \"num_unique_values\": 4,\n        \"samples\": [\n          \"16-20\",\n          \"20-25\",\n          \"30-Above\"\n        ],\n        \"semantic_type\": \"\",\n        \"description\": \"\"\n      }\n    },\n    {\n      \"column\": \"Gender\",\n      \"properties\": {\n        \"dtype\": \"category\",\n        \"num_unique_values\": 2,\n        \"samples\": [\n          \"Male\",\n          \"Female\"\n        ],\n        \"semantic_type\": \"\",\n        \"description\": \"\"\n      }\n    },\n    {\n      \"column\": \"Occupation\",\n      \"properties\": {\n        \"dtype\": \"category\",\n        \"num_unique_values\": 5,\n        \"samples\": [\n          \"Corporate\",\n          \"Student\"\n        ],\n        \"semantic_type\": \"\",\n        \"description\": \"\"\n      }\n    },\n    {\n      \"column\": \"Days_Indoors\",\n      \"properties\": {\n        \"dtype\": \"category\",\n        \"num_unique_values\": 5,\n        \"samples\": [\n          \"Go out Every day\",\n          \"1-14 days\"\n        ],\n        \"semantic_type\": \"\",\n        \"description\": \"\"\n      }\n    },\n    {\n      \"column\": \"Growing_Stress\",\n      \"properties\": {\n        \"dtype\": \"category\",\n        \"num_unique_values\": 2,\n        \"samples\": [\n          \"No\",\n          \"Yes\"\n        ],\n        \"semantic_type\": \"\",\n        \"description\": \"\"\n      }\n    },\n    {\n      \"column\": \"Quarantine_Frustrations\",\n      \"properties\": {\n        \"dtype\": \"category\",\n        \"num_unique_values\": 2,\n        \"samples\": [\n          \"No\",\n          \"Yes\"\n        ],\n        \"semantic_type\": \"\",\n        \"description\": \"\"\n      }\n    },\n    {\n      \"column\": \"Changes_Habits\",\n      \"properties\": {\n        \"dtype\": \"category\",\n        \"num_unique_values\": 2,\n        \"samples\": [\n          \"No\",\n          \"Yes\"\n        ],\n        \"semantic_type\": \"\",\n        \"description\": \"\"\n      }\n    },\n    {\n      \"column\": \"Mental_Health_History\",\n      \"properties\": {\n        \"dtype\": \"category\",\n        \"num_unique_values\": 2,\n        \"samples\": [\n          \"No\",\n          \"Yes\"\n        ],\n        \"semantic_type\": \"\",\n        \"description\": \"\"\n      }\n    },\n    {\n      \"column\": \"Weight_Change\",\n      \"properties\": {\n        \"dtype\": \"category\",\n        \"num_unique_values\": 2,\n        \"samples\": [\n          \"Yes\",\n          \"No\"\n        ],\n        \"semantic_type\": \"\",\n        \"description\": \"\"\n      }\n    },\n    {\n      \"column\": \"Mood_Swings\",\n      \"properties\": {\n        \"dtype\": \"category\",\n        \"num_unique_values\": 3,\n        \"samples\": [\n          \"High\",\n          \"Medium\"\n        ],\n        \"semantic_type\": \"\",\n        \"description\": \"\"\n      }\n    },\n    {\n      \"column\": \"Coping_Struggles\",\n      \"properties\": {\n        \"dtype\": \"category\",\n        \"num_unique_values\": 2,\n        \"samples\": [\n          \"No\",\n          \"Yes\"\n        ],\n        \"semantic_type\": \"\",\n        \"description\": \"\"\n      }\n    },\n    {\n      \"column\": \"Work_Interest\",\n      \"properties\": {\n        \"dtype\": \"category\",\n        \"num_unique_values\": 2,\n        \"samples\": [\n          \"No\",\n          \"Yes\"\n        ],\n        \"semantic_type\": \"\",\n        \"description\": \"\"\n      }\n    },\n    {\n      \"column\": \"Social_Weakness\",\n      \"properties\": {\n        \"dtype\": \"category\",\n        \"num_unique_values\": 2,\n        \"samples\": [\n          \"No\",\n          \"Yes\"\n        ],\n        \"semantic_type\": \"\",\n        \"description\": \"\"\n      }\n    }\n  ]\n}"
            }
          },
          "metadata": {},
          "execution_count": 1
        }
      ]
    },
    {
      "cell_type": "code",
      "source": [
        "df.info()"
      ],
      "metadata": {
        "colab": {
          "base_uri": "https://localhost:8080/"
        },
        "id": "W1ZlDJDvFmWj",
        "outputId": "6e54a35c-1092-4f8c-8ec7-c962be89237b"
      },
      "id": "W1ZlDJDvFmWj",
      "execution_count": 2,
      "outputs": [
        {
          "output_type": "stream",
          "name": "stdout",
          "text": [
            "<class 'pandas.core.frame.DataFrame'>\n",
            "RangeIndex: 300 entries, 0 to 299\n",
            "Data columns (total 14 columns):\n",
            " #   Column                   Non-Null Count  Dtype \n",
            "---  ------                   --------------  ----- \n",
            " 0   Unnamed: 0               300 non-null    int64 \n",
            " 1   Age                      300 non-null    object\n",
            " 2   Gender                   300 non-null    object\n",
            " 3   Occupation               300 non-null    object\n",
            " 4   Days_Indoors             300 non-null    object\n",
            " 5   Growing_Stress           300 non-null    object\n",
            " 6   Quarantine_Frustrations  300 non-null    object\n",
            " 7   Changes_Habits           300 non-null    object\n",
            " 8   Mental_Health_History    300 non-null    object\n",
            " 9   Weight_Change            300 non-null    object\n",
            " 10  Mood_Swings              300 non-null    object\n",
            " 11  Coping_Struggles         300 non-null    object\n",
            " 12  Work_Interest            300 non-null    object\n",
            " 13  Social_Weakness          300 non-null    object\n",
            "dtypes: int64(1), object(13)\n",
            "memory usage: 32.9+ KB\n"
          ]
        }
      ]
    },
    {
      "cell_type": "markdown",
      "source": [
        "Now, Run the code below to return **TWO variables** which represent different aspects of mental health that you need to focus on."
      ],
      "metadata": {
        "id": "uhv3cBRlwY-W"
      },
      "id": "uhv3cBRlwY-W"
    },
    {
      "cell_type": "code",
      "source": [
        "\n",
        "# Load the following libraries so that they can be applied in the subsequent code blocks\n",
        "\n",
        "import numpy as np\n",
        "import pandas as pd\n",
        "import matplotlib.pyplot as plt\n",
        "import random\n",
        "import scipy.stats as stats\n",
        "import random\n",
        "\n",
        "column_titles = [\"Growing_Stress\"  ,\"Quarantine_Frustrations\"  ,\"Changes_Habits\" ,\"Mental_Health_History\", \"Weight_Change\" ,\"Mood_Swings\", \"Coping_Struggles\",\"Work_Interest\",\"Social_Weakness\"]\n",
        "\n",
        "# Randomly select 2 variables\n",
        "selected_columns = random.sample(column_titles, 2)\n",
        "\n",
        "\n",
        "# Print the 2 variables that were randomly selected\n",
        "variable_1, variable_2 = selected_columns\n",
        "print(\"Variable 1:\", variable_1)\n",
        "print(\"Variable 2:\", variable_2)"
      ],
      "metadata": {
        "id": "x8j_10-22EIi",
        "colab": {
          "base_uri": "https://localhost:8080/"
        },
        "outputId": "7462cb6c-7d00-4a0b-d21f-9aa0db383355"
      },
      "id": "x8j_10-22EIi",
      "execution_count": 3,
      "outputs": [
        {
          "output_type": "stream",
          "name": "stdout",
          "text": [
            "Variable 1: Mood_Swings\n",
            "Variable 2: Social_Weakness\n"
          ]
        }
      ]
    },
    {
      "cell_type": "markdown",
      "source": [
        "\n",
        "Using the sample dataset from the CSV file you generated answer the following questions:\n",
        "\n",
        "**Question 1a**.\n",
        "Is each of these two variables independent of being **female**? Explain your reasoning. Make sure to include a two-way table for each of these two variables with gender, and show all your calculations to support your answers.\n",
        "\n",
        "**Question 1b**.\n",
        "Is there a relationship between the two variables returned by the code? Explain your reasoning. Make sure you include a two-way table, a stacked bar graph, and all your probability calculations in your answer.\n",
        "\n",
        "**Question 1c**.\n",
        "Does the existence of Variable 1 increase the likelihood of experiencing Variable 2? If so, by how much? Explain your reasoning. Make sure to support your answer with the relevant statistical analysis.\n",
        "\n",
        "**Question 1d**.\n",
        "Look back at your **answers to Questions 1a-c**. Now use what you learned to answer the following question:\n",
        "\n",
        "Imagine ZU wanted to use the insights from this research to improve its mental health support program. What recommendations would you make to support students struggling with such challenges?"
      ],
      "metadata": {
        "id": "XLF-3gDYdFk7"
      },
      "id": "XLF-3gDYdFk7"
    },
    {
      "cell_type": "markdown",
      "source": [
        "#*Question 1a. *\n",
        "Is each of these two variables independent of being female? Explain your reasoning. Make sure to include a two-way table for each of these two variables with gender, and show all your calculations to support your answers."
      ],
      "metadata": {
        "id": "2nQpLDOLGdyT"
      },
      "id": "2nQpLDOLGdyT"
    },
    {
      "cell_type": "markdown",
      "id": "45d92e3a",
      "metadata": {
        "id": "45d92e3a"
      },
      "source": [
        "**Answer:** Add more \"markdown\" text and code cells below as needed."
      ]
    },
    {
      "cell_type": "code",
      "source": [
        "import pandas as pd\n",
        "from scipy.stats import chi2_contingency\n",
        "\n",
        "\n",
        "\n",
        "# Create contingency table for Age vs Gender\n",
        "age_gender_table = pd.crosstab(df['Age'], df['Gender'])\n",
        "\n",
        "# Create contingency table for Occupation vs Gender\n",
        "occupation_gender_table = pd.crosstab(df['Occupation'], df['Gender'])\n",
        "\n",
        "# Chi-squared test for Age vs Gender\n",
        "chi2_age_gender, p_age_gender, _, _ = chi2_contingency(age_gender_table)\n",
        "\n",
        "# Chi-squared test for Occupation vs Gender\n",
        "chi2_occupation_gender, p_occupation_gender, _, _ = chi2_contingency(occupation_gender_table)\n",
        "\n",
        "# Print results\n",
        "print(\"Chi-squared test for Age vs Gender:\")\n",
        "print(f\"Chi-squared statistic: {chi2_age_gender}\")\n",
        "print(f\"P-value: {p_age_gender}\")\n",
        "\n",
        "print(\"\\nChi-squared test for Occupation vs Gender:\")\n",
        "print(f\"Chi-squared statistic: {chi2_occupation_gender}\")\n",
        "print(f\"P-value: {p_occupation_gender}\")\n"
      ],
      "metadata": {
        "id": "oyaP8aS2hwQc",
        "colab": {
          "base_uri": "https://localhost:8080/"
        },
        "outputId": "583e5dcb-2e26-4a9c-bcc8-edef8c7d3eb5"
      },
      "id": "oyaP8aS2hwQc",
      "execution_count": 4,
      "outputs": [
        {
          "output_type": "stream",
          "name": "stdout",
          "text": [
            "Chi-squared test for Age vs Gender:\n",
            "Chi-squared statistic: 1.8171118045986319\n",
            "P-value: 0.6112183139194727\n",
            "\n",
            "Chi-squared test for Occupation vs Gender:\n",
            "Chi-squared statistic: 1.33103080505832\n",
            "P-value: 0.8560891372766668\n"
          ]
        }
      ]
    },
    {
      "cell_type": "markdown",
      "source": [
        "**Question 1b.**\n",
        "\n",
        " Is there a relationship between the two variables returned by the code? Explain your reasoning. Make sure you include a two-way table, a stacked bar graph, and all your probability calculations in your answer."
      ],
      "metadata": {
        "id": "FTQgoBIXHGqK"
      },
      "id": "FTQgoBIXHGqK"
    },
    {
      "cell_type": "code",
      "execution_count": 5,
      "id": "38eddcef",
      "metadata": {
        "id": "38eddcef",
        "colab": {
          "base_uri": "https://localhost:8080/",
          "height": 755
        },
        "outputId": "e3879c6d-dc11-4fb1-d0a7-300231a6473e"
      },
      "outputs": [
        {
          "output_type": "stream",
          "name": "stdout",
          "text": [
            "Chi-squared test results:\n",
            "Chi-squared statistic: 14.88927952936438\n",
            "P-value: 0.24754738746958405\n",
            "\n",
            "Two-way table (Age vs Occupation):\n",
            "Occupation  Business  Corporate  Housewife  Others  Student\n",
            "Age                                                        \n",
            "16-20             10         18         19      18       15\n",
            "20-25             19          9          8      13       16\n",
            "25-30             13         20         17      13       10\n",
            "30-Above          13         21         18      16       14\n"
          ]
        },
        {
          "output_type": "display_data",
          "data": {
            "text/plain": [
              "<Figure size 1000x600 with 1 Axes>"
            ],
            "image/png": "[encoded data removed]"
          },
          "metadata": {}
        }
      ],
      "source": [
        "import pandas as pd\n",
        "import numpy as np\n",
        "import matplotlib.pyplot as plt\n",
        "from scipy.stats import chi2_contingency\n",
        "\n",
        "# Create contingency table for Age vs Occupation\n",
        "contingency_table = pd.crosstab(df['Age'], df['Occupation'])\n",
        "\n",
        "# Calculate chi-squared statistic and p-value\n",
        "chi2, p, _, _ = chi2_contingency(contingency_table)\n",
        "\n",
        "# Print results\n",
        "print(\"Chi-squared test results:\")\n",
        "print(f\"Chi-squared statistic: {chi2}\")\n",
        "print(f\"P-value: {p}\")\n",
        "\n",
        "# Create a two-way table\n",
        "print(\"\\nTwo-way table (Age vs Occupation):\")\n",
        "print(contingency_table)\n",
        "\n",
        "# Create a stacked bar graph\n",
        "contingency_table.plot(kind='bar', stacked=True, figsize=(10, 6))\n",
        "plt.title('Stacked Bar Graph of Age vs Occupation')\n",
        "plt.xlabel('Age')\n",
        "plt.ylabel('Count')\n",
        "plt.xticks(rotation=0)\n",
        "plt.legend(title='Occupation')\n",
        "plt.show()"
      ]
    },
    {
      "cell_type": "markdown",
      "source": [
        "**Question 1c.**\n",
        "\n",
        " Does the existence of Variable 1 increase the likelihood of experiencing Variable 2? If so, by how much? Explain your reasoning. Make sure to support your answer with the relevant statistical analysis."
      ],
      "metadata": {
        "id": "SUSAoLOzIUPw"
      },
      "id": "SUSAoLOzIUPw"
    },
    {
      "cell_type": "code",
      "source": [
        "import pandas as pd\n",
        "from scipy.stats import chi2_contingency\n",
        "\n",
        "\n",
        "\n",
        "# Calculate odds ratio\n",
        "odds_ratio, p_value = chi2_contingency(contingency_table)[:2]\n",
        "\n",
        "# Print results\n",
        "print(\"Contingency table (Variable 1 vs Variable 2):\")\n",
        "print(contingency_table)\n",
        "print(\"\\nOdds ratio:\", odds_ratio)\n",
        "print(\"P-value:\", p_value)\n",
        "\n",
        "# Interpretation\n",
        "if odds_ratio > 1:\n",
        "    print(\"\\nThe existence of Variable 1 increases the likelihood of experiencing Variable 2.\")\n",
        "    print(f\"The odds of experiencing Variable 2 when Variable 1 is present are {odds_ratio:.2f} times higher.\")\n",
        "else:\n",
        "    print(\"\\nThe existence of Variable 1 does not increase the likelihood of experiencing Variable 2.\")\n"
      ],
      "metadata": {
        "colab": {
          "base_uri": "https://localhost:8080/"
        },
        "id": "zyf-zus1Hopl",
        "outputId": "def0a659-ebce-46a2-e84d-4a0518befa57"
      },
      "id": "zyf-zus1Hopl",
      "execution_count": 6,
      "outputs": [
        {
          "output_type": "stream",
          "name": "stdout",
          "text": [
            "Contingency table (Variable 1 vs Variable 2):\n",
            "Occupation  Business  Corporate  Housewife  Others  Student\n",
            "Age                                                        \n",
            "16-20             10         18         19      18       15\n",
            "20-25             19          9          8      13       16\n",
            "25-30             13         20         17      13       10\n",
            "30-Above          13         21         18      16       14\n",
            "\n",
            "Odds ratio: 14.88927952936438\n",
            "P-value: 0.24754738746958405\n",
            "\n",
            "The existence of Variable 1 increases the likelihood of experiencing Variable 2.\n",
            "The odds of experiencing Variable 2 when Variable 1 is present are 14.89 times higher.\n"
          ]
        }
      ]
    },
    {
      "cell_type": "markdown",
      "source": [
        "#Question 1d:\n",
        "Based on the analysis conducted, what recommendations would you make to support students struggling with mental health challenges and improve ZU's mental health support program?"
      ],
      "metadata": {
        "id": "r0mgLxFYYmUe"
      },
      "id": "r0mgLxFYYmUe"
    },
    {
      "cell_type": "markdown",
      "source": [
        "#Answer:\n",
        "\n",
        "data analysis was done to learn more about mental health issues that university students face. Enhancing awareness, making sure support services are accessible, training teachers and staff, putting peer support programs into place, creating crisis intervention plans, working with healthcare providers, utilizing data analytics for continuous improvement, and encouraging work-life balance are some of the suggestions made for ZU's mental health support programs. The purpose of these suggestions is to improve ZU students' access to mental health services.\n",
        "\n",
        "#Following data analysis, the following suggestions may be made to improve ZU's mental health assistance program for students experiencing mental health issues:\n",
        "\n",
        "-Increase Awareness\n",
        "\n",
        "-Accessible Support Services\n",
        "\n",
        "-Training and Resources\n",
        "\n",
        "-Peer Support Programs\n",
        "\n",
        "-Collaboration with Healthcare Providers\n",
        "\n",
        "-Data-Driven Approach\n",
        "\n",
        "-Promote Work-Life Balance"
      ],
      "metadata": {
        "id": "wdCbt7BpYmhi"
      },
      "id": "wdCbt7BpYmhi"
    },
    {
      "cell_type": "code",
      "source": [],
      "metadata": {
        "id": "qzVvXDcQXj40"
      },
      "id": "qzVvXDcQXj40",
      "execution_count": null,
      "outputs": []
    },
    {
      "cell_type": "markdown",
      "id": "df3517a6",
      "metadata": {
        "id": "df3517a6"
      },
      "source": [
        "# B. Statistical Intuition in Store Ratings"
      ]
    },
    {
      "cell_type": "markdown",
      "source": [
        "# **Question 2:**\n",
        "\n",
        "\n",
        "Imagine you are the manager of an Electronic store in Dubai mall. You are curious about the distribution of customer ratings about your overall store services. So you ask random customers who visit the store to complete a short survey, recording variables such as their age group, and overall experience rating.\n",
        "\n",
        "**To Begin**\n",
        "\n",
        "Run the code below. It will provide you with a random sample of **40** customers from this survey. It will also save your random sample data to a CSV file called **\"RelianceRetailVisits_ordered\"**. Again, you need to submit this file in the same zip folder as the other files."
      ],
      "metadata": {
        "id": "dbbubvNGUHtp"
      },
      "id": "dbbubvNGUHtp"
    },
    {
      "cell_type": "code",
      "source": [
        "# Load the following libraries so that they can be applied in the subsequent code blocks\n",
        "\n",
        "import numpy as np\n",
        "import pandas as pd\n",
        "import matplotlib.pyplot as plt\n",
        "import random\n",
        "import scipy.stats as stats\n",
        "\n",
        "try:\n",
        "    df = pd.read_csv('RelianceRetailVisits.csv')\n",
        "except FileNotFoundError:\n",
        "    original_data = pd.read_csv(\"https://raw.githubusercontent.com/DanaSaleh1003/IDS-103-Spring-2024/main/RelianceRetailVisits-1.csv\")\n",
        "\n",
        "    # Randomly sample 40 rows from the original dataset\n",
        "    df = original_data.sample(n=40, random_state=42)\n",
        "\n",
        "# Fill missing values for '46 To 60 years' age group with default values or remove NaN rows\n",
        "df.fillna({'Age Group': '46 To 60 years'}, inplace=True)\n",
        "\n",
        "# Sort the DataFrame based on the 'Age Group' column in the desired order\n",
        "desired_order = ['26  To  35 years', '16  To  25 years', '36  To  45 years', '46  To  60 years']  # Corrected unique values\n",
        "df['Age Group'] = pd.Categorical(df['Age Group'], categories=desired_order, ordered=True)\n",
        "df.sort_values(by='Age Group', inplace=True)\n",
        "\n",
        "# Save the sorted DataFrame to a new CSV file\n",
        "df.to_csv('RelianceRetailVisits_ordered.csv', index=False)\n",
        "\n",
        "df.head()\n"
      ],
      "metadata": {
        "id": "nkAOSjevTIDd",
        "colab": {
          "base_uri": "https://localhost:8080/",
          "height": 206
        },
        "outputId": "b6dbae8b-7003-4ae6-a972-83956b77f26d"
      },
      "id": "nkAOSjevTIDd",
      "execution_count": 7,
      "outputs": [
        {
          "output_type": "execute_result",
          "data": {
            "text/plain": [
              "     Customer Index         Age Group  OverallExperienceRatin\n",
              "165             166  26  To  35 years                       2\n",
              "114             115  26  To  35 years                       4\n",
              "117             118  26  To  35 years                       5\n",
              "118             119  26  To  35 years                       5\n",
              "172             173  26  To  35 years                       5"
            ],
            "text/html": [
              "\n",
              "  <div id=\"df-dbe66999-cd0d-460d-a64c-7dca9220c268\" class=\"colab-df-container\">\n",
              "    <div>\n",
              "<style scoped>\n",
              "    .dataframe tbody tr th:only-of-type {\n",
              "        vertical-align: middle;\n",
              "    }\n",
              "\n",
              "    .dataframe tbody tr th {\n",
              "        vertical-align: top;\n",
              "    }\n",
              "\n",
              "    .dataframe thead th {\n",
              "        text-align: right;\n",
              "    }\n",
              "</style>\n",
              "<table border=\"1\" class=\"dataframe\">\n",
              "  <thead>\n",
              "    <tr style=\"text-align: right;\">\n",
              "      <th></th>\n",
              "      <th>Customer Index</th>\n",
              "      <th>Age Group</th>\n",
              "      <th>OverallExperienceRatin</th>\n",
              "    </tr>\n",
              "  </thead>\n",
              "  <tbody>\n",
              "    <tr>\n",
              "      <th>165</th>\n",
              "      <td>166</td>\n",
              "      <td>26  To  35 years</td>\n",
              "      <td>2</td>\n",
              "    </tr>\n",
              "    <tr>\n",
              "      <th>114</th>\n",
              "      <td>115</td>\n",
              "      <td>26  To  35 years</td>\n",
              "      <td>4</td>\n",
              "    </tr>\n",
              "    <tr>\n",
              "      <th>117</th>\n",
              "      <td>118</td>\n",
              "      <td>26  To  35 years</td>\n",
              "      <td>5</td>\n",
              "    </tr>\n",
              "    <tr>\n",
              "      <th>118</th>\n",
              "      <td>119</td>\n",
              "      <td>26  To  35 years</td>\n",
              "      <td>5</td>\n",
              "    </tr>\n",
              "    <tr>\n",
              "      <th>172</th>\n",
              "      <td>173</td>\n",
              "      <td>26  To  35 years</td>\n",
              "      <td>5</td>\n",
              "    </tr>\n",
              "  </tbody>\n",
              "</table>\n",
              "</div>\n",
              "    <div class=\"colab-df-buttons\">\n",
              "\n",
              "  <div class=\"colab-df-container\">\n",
              "    <button class=\"colab-df-convert\" onclick=\"convertToInteractive('df-dbe66999-cd0d-460d-a64c-7dca9220c268')\"\n",
              "            title=\"Convert this dataframe to an interactive table.\"\n",
              "            style=\"display:none;\">\n",
              "\n",
              "  <svg xmlns=\"http://www.w3.org/2000/svg\" height=\"24px\" viewBox=\"0 -960 960 960\">\n",
              "    <path d=\"M120-120v-720h720v720H120Zm60-500h600v-160H180v160Zm220 220h160v-160H400v160Zm0 220h160v-160H400v160ZM180-400h160v-160H180v160Zm440 0h160v-160H620v160ZM180-180h160v-160H180v160Zm440 0h160v-160H620v160Z\"/>\n",
              "  </svg>\n",
              "    </button>\n",
              "\n",
              "  <style>\n",
              "    .colab-df-container {\n",
              "      display:flex;\n",
              "      gap: 12px;\n",
              "    }\n",
              "\n",
              "    .colab-df-convert {\n",
              "      background-color: #E8F0FE;\n",
              "      border: none;\n",
              "      border-radius: 50%;\n",
              "      cursor: pointer;\n",
              "      display: none;\n",
              "      fill: #1967D2;\n",
              "      height: 32px;\n",
              "      padding: 0 0 0 0;\n",
              "      width: 32px;\n",
              "    }\n",
              "\n",
              "    .colab-df-convert:hover {\n",
              "      background-color: #E2EBFA;\n",
              "      box-shadow: 0px 1px 2px rgba(60, 64, 67, 0.3), 0px 1px 3px 1px rgba(60, 64, 67, 0.15);\n",
              "      fill: #174EA6;\n",
              "    }\n",
              "\n",
              "    .colab-df-buttons div {\n",
              "      margin-bottom: 4px;\n",
              "    }\n",
              "\n",
              "    [theme=dark] .colab-df-convert {\n",
              "      background-color: #3B4455;\n",
              "      fill: #D2E3FC;\n",
              "    }\n",
              "\n",
              "    [theme=dark] .colab-df-convert:hover {\n",
              "      background-color: #434B5C;\n",
              "      box-shadow: 0px 1px 3px 1px rgba(0, 0, 0, 0.15);\n",
              "      filter: drop-shadow(0px 1px 2px rgba(0, 0, 0, 0.3));\n",
              "      fill: #FFFFFF;\n",
              "    }\n",
              "  </style>\n",
              "\n",
              "    <script>\n",
              "      const buttonEl =\n",
              "        document.querySelector('#df-dbe66999-cd0d-460d-a64c-7dca9220c268 button.colab-df-convert');\n",
              "      buttonEl.style.display =\n",
              "        google.colab.kernel.accessAllowed ? 'block' : 'none';\n",
              "\n",
              "      async function convertToInteractive(key) {\n",
              "        const element = document.querySelector('#df-dbe66999-cd0d-460d-a64c-7dca9220c268');\n",
              "        const dataTable =\n",
              "          await google.colab.kernel.invokeFunction('convertToInteractive',\n",
              "                                                    [key], {});\n",
              "        if (!dataTable) return;\n",
              "\n",
              "        const docLinkHtml = 'Like what you see? Visit the ' +\n",
              "          '<a target=\"_blank\" href=https://colab.research.google.com/notebooks/data_table.ipynb>data table notebook</a>'\n",
              "          + ' to learn more about interactive tables.';\n",
              "        element.innerHTML = '';\n",
              "        dataTable['output_type'] = 'display_data';\n",
              "        await google.colab.output.renderOutput(dataTable, element);\n",
              "        const docLink = document.createElement('div');\n",
              "        docLink.innerHTML = docLinkHtml;\n",
              "        element.appendChild(docLink);\n",
              "      }\n",
              "    </script>\n",
              "  </div>\n",
              "\n",
              "\n",
              "<div id=\"df-5f202554-d6a9-4cd4-8e81-2d17260503bb\">\n",
              "  <button class=\"colab-df-quickchart\" onclick=\"quickchart('df-5f202554-d6a9-4cd4-8e81-2d17260503bb')\"\n",
              "            title=\"Suggest charts\"\n",
              "            style=\"display:none;\">\n",
              "\n",
              "<svg xmlns=\"http://www.w3.org/2000/svg\" height=\"24px\"viewBox=\"0 0 24 24\"\n",
              "     width=\"24px\">\n",
              "    <g>\n",
              "        <path d=\"M19 3H5c-1.1 0-2 .9-2 2v14c0 1.1.9 2 2 2h14c1.1 0 2-.9 2-2V5c0-1.1-.9-2-2-2zM9 17H7v-7h2v7zm4 0h-2V7h2v10zm4 0h-2v-4h2v4z\"/>\n",
              "    </g>\n",
              "</svg>\n",
              "  </button>\n",
              "\n",
              "<style>\n",
              "  .colab-df-quickchart {\n",
              "      --bg-color: #E8F0FE;\n",
              "      --fill-color: #1967D2;\n",
              "      --hover-bg-color: #E2EBFA;\n",
              "      --hover-fill-color: #174EA6;\n",
              "      --disabled-fill-color: #AAA;\n",
              "      --disabled-bg-color: #DDD;\n",
              "  }\n",
              "\n",
              "  [theme=dark] .colab-df-quickchart {\n",
              "      --bg-color: #3B4455;\n",
              "      --fill-color: #D2E3FC;\n",
              "      --hover-bg-color: #434B5C;\n",
              "      --hover-fill-color: #FFFFFF;\n",
              "      --disabled-bg-color: #3B4455;\n",
              "      --disabled-fill-color: #666;\n",
              "  }\n",
              "\n",
              "  .colab-df-quickchart {\n",
              "    background-color: var(--bg-color);\n",
              "    border: none;\n",
              "    border-radius: 50%;\n",
              "    cursor: pointer;\n",
              "    display: none;\n",
              "    fill: var(--fill-color);\n",
              "    height: 32px;\n",
              "    padding: 0;\n",
              "    width: 32px;\n",
              "  }\n",
              "\n",
              "  .colab-df-quickchart:hover {\n",
              "    background-color: var(--hover-bg-color);\n",
              "    box-shadow: 0 1px 2px rgba(60, 64, 67, 0.3), 0 1px 3px 1px rgba(60, 64, 67, 0.15);\n",
              "    fill: var(--button-hover-fill-color);\n",
              "  }\n",
              "\n",
              "  .colab-df-quickchart-complete:disabled,\n",
              "  .colab-df-quickchart-complete:disabled:hover {\n",
              "    background-color: var(--disabled-bg-color);\n",
              "    fill: var(--disabled-fill-color);\n",
              "    box-shadow: none;\n",
              "  }\n",
              "\n",
              "  .colab-df-spinner {\n",
              "    border: 2px solid var(--fill-color);\n",
              "    border-color: transparent;\n",
              "    border-bottom-color: var(--fill-color);\n",
              "    animation:\n",
              "      spin 1s steps(1) infinite;\n",
              "  }\n",
              "\n",
              "  @keyframes spin {\n",
              "    0% {\n",
              "      border-color: transparent;\n",
              "      border-bottom-color: var(--fill-color);\n",
              "      border-left-color: var(--fill-color);\n",
              "    }\n",
              "    20% {\n",
              "      border-color: transparent;\n",
              "      border-left-color: var(--fill-color);\n",
              "      border-top-color: var(--fill-color);\n",
              "    }\n",
              "    30% {\n",
              "      border-color: transparent;\n",
              "      border-left-color: var(--fill-color);\n",
              "      border-top-color: var(--fill-color);\n",
              "      border-right-color: var(--fill-color);\n",
              "    }\n",
              "    40% {\n",
              "      border-color: transparent;\n",
              "      border-right-color: var(--fill-color);\n",
              "      border-top-color: var(--fill-color);\n",
              "    }\n",
              "    60% {\n",
              "      border-color: transparent;\n",
              "      border-right-color: var(--fill-color);\n",
              "    }\n",
              "    80% {\n",
              "      border-color: transparent;\n",
              "      border-right-color: var(--fill-color);\n",
              "      border-bottom-color: var(--fill-color);\n",
              "    }\n",
              "    90% {\n",
              "      border-color: transparent;\n",
              "      border-bottom-color: var(--fill-color);\n",
              "    }\n",
              "  }\n",
              "</style>\n",
              "\n",
              "  <script>\n",
              "    async function quickchart(key) {\n",
              "      const quickchartButtonEl =\n",
              "        document.querySelector('#' + key + ' button');\n",
              "      quickchartButtonEl.disabled = true;  // To prevent multiple clicks.\n",
              "      quickchartButtonEl.classList.add('colab-df-spinner');\n",
              "      try {\n",
              "        const charts = await google.colab.kernel.invokeFunction(\n",
              "            'suggestCharts', [key], {});\n",
              "      } catch (error) {\n",
              "        console.error('Error during call to suggestCharts:', error);\n",
              "      }\n",
              "      quickchartButtonEl.classList.remove('colab-df-spinner');\n",
              "      quickchartButtonEl.classList.add('colab-df-quickchart-complete');\n",
              "    }\n",
              "    (() => {\n",
              "      let quickchartButtonEl =\n",
              "        document.querySelector('#df-5f202554-d6a9-4cd4-8e81-2d17260503bb button');\n",
              "      quickchartButtonEl.style.display =\n",
              "        google.colab.kernel.accessAllowed ? 'block' : 'none';\n",
              "    })();\n",
              "  </script>\n",
              "</div>\n",
              "\n",
              "    </div>\n",
              "  </div>\n"
            ],
            "application/vnd.google.colaboratory.intrinsic+json": {
              "type": "dataframe",
              "variable_name": "df",
              "summary": "{\n  \"name\": \"df\",\n  \"rows\": 40,\n  \"fields\": [\n    {\n      \"column\": \"Customer Index\",\n      \"properties\": {\n        \"dtype\": \"number\",\n        \"std\": 64,\n        \"min\": 10,\n        \"max\": 221,\n        \"num_unique_values\": 40,\n        \"samples\": [\n          10,\n          19,\n          83\n        ],\n        \"semantic_type\": \"\",\n        \"description\": \"\"\n      }\n    },\n    {\n      \"column\": \"Age Group\",\n      \"properties\": {\n        \"dtype\": \"category\",\n        \"num_unique_values\": 4,\n        \"samples\": [\n          \"16  To  25 years\",\n          \"46  To  60 years\",\n          \"26  To  35 years\"\n        ],\n        \"semantic_type\": \"\",\n        \"description\": \"\"\n      }\n    },\n    {\n      \"column\": \"OverallExperienceRatin\",\n      \"properties\": {\n        \"dtype\": \"number\",\n        \"std\": 1,\n        \"min\": 1,\n        \"max\": 5,\n        \"num_unique_values\": 5,\n        \"samples\": [\n          4,\n          1,\n          5\n        ],\n        \"semantic_type\": \"\",\n        \"description\": \"\"\n      }\n    }\n  ]\n}"
            }
          },
          "metadata": {},
          "execution_count": 7
        }
      ]
    },
    {
      "cell_type": "code",
      "source": [
        "df.info()"
      ],
      "metadata": {
        "colab": {
          "base_uri": "https://localhost:8080/"
        },
        "id": "edCuuuOLaOrR",
        "outputId": "3bfb64ee-9468-4982-f70c-61a1d12f09b7"
      },
      "id": "edCuuuOLaOrR",
      "execution_count": 8,
      "outputs": [
        {
          "output_type": "stream",
          "name": "stdout",
          "text": [
            "<class 'pandas.core.frame.DataFrame'>\n",
            "Int64Index: 40 entries, 165 to 220\n",
            "Data columns (total 3 columns):\n",
            " #   Column                  Non-Null Count  Dtype   \n",
            "---  ------                  --------------  -----   \n",
            " 0   Customer Index          40 non-null     int64   \n",
            " 1   Age Group               40 non-null     category\n",
            " 2   OverallExperienceRatin  40 non-null     int64   \n",
            "dtypes: category(1), int64(2)\n",
            "memory usage: 1.2 KB\n"
          ]
        }
      ]
    },
    {
      "cell_type": "markdown",
      "source": [
        "Use the random sample of data from the csv file you generated to answer the following questions:\n",
        "\n",
        "**Question 2a.** Construct a probability distribution table for all customer ratings in your sample data (an example table can be seen below). Please do this in Excel and explain [step by step] how you constructed your probability table.\n"
      ],
      "metadata": {
        "id": "dPZBs9LTXkch"
      },
      "id": "dPZBs9LTXkch"
    },
    {
      "cell_type": "code",
      "source": [
        "import pandas as pd\n",
        "\n",
        "\n",
        "# Calculate frequency of each rating\n",
        "rating_counts = df['OverallExperienceRatin'].value_counts().sort_index()\n",
        "\n",
        "# Calculate total number of ratings\n",
        "total_ratings = rating_counts.sum()\n",
        "\n",
        "# Calculate probability of each rating\n",
        "rating_probabilities = rating_counts / total_ratings\n",
        "\n",
        "# Construct probability distribution table\n",
        "probability_table = pd.DataFrame({\n",
        "    'X = customer ratings': rating_counts.index,\n",
        "    'Probability p(x)': rating_probabilities.values\n",
        "})\n",
        "\n",
        "print(probability_table)\n"
      ],
      "metadata": {
        "colab": {
          "base_uri": "https://localhost:8080/"
        },
        "id": "BbNr06860EhU",
        "outputId": "8232d284-3e28-4bc2-a53e-9b7fd5e1f8e1"
      },
      "id": "BbNr06860EhU",
      "execution_count": 9,
      "outputs": [
        {
          "output_type": "stream",
          "name": "stdout",
          "text": [
            "   X = customer ratings  Probability p(x)\n",
            "0                     1             0.025\n",
            "1                     2             0.150\n",
            "2                     3             0.100\n",
            "3                     4             0.425\n",
            "4                     5             0.300\n"
          ]
        }
      ]
    },
    {
      "cell_type": "code",
      "source": [
        "import pandas as pd\n",
        "import matplotlib.pyplot as plt\n",
        "\n",
        "# Constructing the DataFrame from the provided data\n",
        "data = {\n",
        "    'X = customer ratings': [1, 2, 3, 4, 5],\n",
        "    'Probability p(x)': [0.025, 0.150, 0.100, 0.425, 0.300]\n",
        "}\n",
        "df = pd.DataFrame(data)\n",
        "\n",
        "# Plotting\n",
        "plt.figure(figsize=(10, 6), facecolor='white')\n",
        "plt.bar(df['X = customer ratings'], df['Probability p(x)'], color='skyblue')\n",
        "plt.title('Probability Distribution of Customer Ratings')\n",
        "plt.xlabel('Customer Ratings')\n",
        "plt.ylabel('Probability')\n",
        "plt.xticks(df['X = customer ratings'])\n",
        "plt.grid(axis='y', linestyle='--')\n",
        "plt.show()"
      ],
      "metadata": {
        "colab": {
          "base_uri": "https://localhost:8080/",
          "height": 564
        },
        "id": "n8-sdEaBoYBD",
        "outputId": "8910369f-f95c-4380-f147-b8b5f2c8224b"
      },
      "id": "n8-sdEaBoYBD",
      "execution_count": 10,
      "outputs": [
        {
          "output_type": "display_data",
          "data": {
            "text/plain": [
              "<Figure size 1000x600 with 1 Axes>"
            ],
            "image/png": "[encoded data removed]"
          },
          "metadata": {}
        }
      ]
    },
    {
      "cell_type": "markdown",
      "source": [
        "**Question 2b. **\n",
        "\n",
        "What is the probability that a randomly selected customer will have a rating of AT MOST 3?"
      ],
      "metadata": {
        "id": "Y86Pzrw70iWB"
      },
      "id": "Y86Pzrw70iWB"
    },
    {
      "cell_type": "code",
      "source": [
        "# Display the first few rows of the probability_table\n",
        "print(probability_table.head())"
      ],
      "metadata": {
        "colab": {
          "base_uri": "https://localhost:8080/"
        },
        "id": "2JOFcHkXUGef",
        "outputId": "b184ea3b-971c-4859-d32a-379287eb858c"
      },
      "id": "2JOFcHkXUGef",
      "execution_count": 13,
      "outputs": [
        {
          "output_type": "stream",
          "name": "stdout",
          "text": [
            "   X = customer ratings  Probability p(x)\n",
            "0                     1             0.025\n",
            "1                     2             0.150\n",
            "2                     3             0.100\n",
            "3                     4             0.425\n",
            "4                     5             0.300\n"
          ]
        }
      ]
    },
    {
      "cell_type": "code",
      "source": [
        "# Probability of rating at most 3\n",
        "probability_at_most_3 = probability_table[probability_table['X = customer ratings'] <= 3]['Probability p(x)'].sum()\n",
        "\n",
        "print(\"Probability of rating at most 3:\", probability_at_most_3)\n"
      ],
      "metadata": {
        "colab": {
          "base_uri": "https://localhost:8080/"
        },
        "id": "N4T1RLPW0fuV",
        "outputId": "1a01f742-2902-4e93-c183-f9bf3229f9bb"
      },
      "id": "N4T1RLPW0fuV",
      "execution_count": 15,
      "outputs": [
        {
          "output_type": "stream",
          "name": "stdout",
          "text": [
            "Probability of rating at most 3: 0.275\n"
          ]
        }
      ]
    },
    {
      "cell_type": "markdown",
      "source": [
        "**Question 2c.**\n",
        "\n",
        "Based on the created probability distribution table, how satisfied are your customers with your store services?"
      ],
      "metadata": {
        "id": "l4Gxm5pz08Zu"
      },
      "id": "l4Gxm5pz08Zu"
    },
    {
      "cell_type": "code",
      "source": [
        "# Calculate the expected value\n",
        "expected_value = (probability_table['X = customer ratings'] * probability_table['Probability p(x)']).sum()\n",
        "\n",
        "# Interpret the expected value\n",
        "print(\"Expected Value (Average Rating):\", expected_value)\n",
        "if expected_value >= 4.5:\n",
        "    print(\"Customers are highly satisfied with your store services.\")\n",
        "elif expected_value >= 3.5:\n",
        "    print(\"Customers are moderately satisfied with your store services.\")\n",
        "else:\n",
        "    print(\"Customers are less satisfied with your store services.\")\n"
      ],
      "metadata": {
        "colab": {
          "base_uri": "https://localhost:8080/"
        },
        "id": "LZPeJb6y1LbS",
        "outputId": "71686749-9ed6-4d83-968d-e1930e7336dc"
      },
      "id": "LZPeJb6y1LbS",
      "execution_count": 16,
      "outputs": [
        {
          "output_type": "stream",
          "name": "stdout",
          "text": [
            "Expected Value (Average Rating): 3.825\n",
            "Customers are moderately satisfied with your store services.\n"
          ]
        }
      ]
    },
    {
      "cell_type": "markdown",
      "source": [
        "**Question 2d.**\n",
        "\n",
        "Find the expected rating of your store. Show your work and interpret your answer in context."
      ],
      "metadata": {
        "id": "sp6siFsB1ayY"
      },
      "id": "sp6siFsB1ayY"
    },
    {
      "cell_type": "code",
      "source": [
        "# Calculate the expected rating\n",
        "expected_rating = (probability_table['X = customer ratings'] * probability_table['Probability p(x)']).sum()\n",
        "\n",
        "print(\"Expected Rating:\", expected_rating)"
      ],
      "metadata": {
        "colab": {
          "base_uri": "https://localhost:8080/"
        },
        "id": "XCuMCOSJ1gdz",
        "outputId": "2d5c3dca-8f4f-4c79-935a-9f2b63e4c8fc"
      },
      "id": "XCuMCOSJ1gdz",
      "execution_count": 17,
      "outputs": [
        {
          "output_type": "stream",
          "name": "stdout",
          "text": [
            "Expected Rating: 3.825\n"
          ]
        }
      ]
    },
    {
      "cell_type": "markdown",
      "source": [
        "Run the code below. It will generate the probability distribution graph for all your customers satisfaction rates and the Standard Deviation."
      ],
      "metadata": {
        "id": "8aR8m22HZn-h"
      },
      "id": "8aR8m22HZn-h"
    },
    {
      "cell_type": "code",
      "source": [
        "import numpy as np\n",
        "import pandas as pd\n",
        "import matplotlib.pyplot as plt\n",
        "import scipy.stats as stats\n",
        "from tabulate import tabulate\n",
        "\n",
        "# Load data\n",
        "try:\n",
        "    df = pd.read_csv('RelianceRetailVisits.csv')\n",
        "except FileNotFoundError:\n",
        "    original_data = pd.read_csv(\"https://raw.githubusercontent.com/DanaSaleh1003/IDS-103-Spring-2024/main/RelianceRetailVisits-1.csv\")\n",
        "    df = original_data.sample(n=40, random_state=42)\n",
        "\n",
        "# Fill missing values for '46 To 60 years' age group with default values or remove NaN rows\n",
        "df.fillna({'Age Group': '46 To 60 years'}, inplace=True)\n",
        "\n",
        "# Sort the DataFrame based on the 'Age Group' column in the desired order\n",
        "desired_order = ['26  To  35 years', '16  To  25 years', '36  To  45 years', '46  To  60 years']\n",
        "df['Age Group'] = pd.Categorical(df['Age Group'], categories=desired_order, ordered=True)\n",
        "df.sort_values(by='Age Group', inplace=True)\n",
        "\n",
        "# Save the sorted DataFrame to a new CSV file\n",
        "df.to_csv('RelianceRetailVisits_ordered.csv', index=False)\n",
        "\n",
        "# Probability distribution graph for customer rating\n",
        "plt.figure(figsize=(8, 6))\n",
        "rating_counts = df['OverallExperienceRatin'].value_counts(normalize=True).sort_index()\n",
        "plt.bar(rating_counts.index, rating_counts, alpha=0.7)\n",
        "plt.title('Probability Distribution of Customer Rating')\n",
        "plt.xlabel('Overall Experience Rating')\n",
        "plt.ylabel('Probability')\n",
        "plt.xticks(range(1, 6))\n",
        "plt.grid(axis='y', linestyle='--', alpha=0.7)\n",
        "plt.show()\n",
        "\n",
        "# Expected value and STD for rating for all customers\n",
        "mean_rating = df['OverallExperienceRatin'].mean()\n",
        "std_rating = df['OverallExperienceRatin'].std()\n",
        "print(f\"Standard Deviation (STD) of Customer Rating: {std_rating:.2f}\")\n",
        "print()\n",
        "\n",
        "\n"
      ],
      "metadata": {
        "id": "a7Rk7EcWWZr9",
        "colab": {
          "base_uri": "https://localhost:8080/",
          "height": 599
        },
        "outputId": "44e800ea-4afe-4c30-c075-8f932e8d98dc"
      },
      "id": "a7Rk7EcWWZr9",
      "execution_count": 18,
      "outputs": [
        {
          "output_type": "display_data",
          "data": {
            "text/plain": [
              "<Figure size 800x600 with 1 Axes>"
            ],
            "image/png": "[encoded data removed]"
          },
          "metadata": {}
        },
        {
          "output_type": "stream",
          "name": "stdout",
          "text": [
            "Standard Deviation (STD) of Customer Rating: 1.11\n",
            "\n"
          ]
        }
      ]
    },
    {
      "cell_type": "markdown",
      "source": [
        "#****Question** 2e.**\n",
        "\n",
        " Interpret the **Standard Deviation** in context. What rating is considered **unusual**? Explain.\n"
      ],
      "metadata": {
        "id": "P5b1t2N8Z1ds"
      },
      "id": "P5b1t2N8Z1ds"
    },
    {
      "cell_type": "markdown",
      "source": [
        "#**Answer -- Let's look at an example to understand the standard deviation in this context:**\n",
        "\n",
        "Assume that the standard deviation is 0.75 and the mean customer rating is 3.5.\n",
        "\n",
        "Assuming a normal distribution, a rating of 3.5 ± 0.75 (i.e., between 2.75 and 4.25) covers almost 68% of the ratings. Ratings in this range are regarded as normal or ordinary.\n",
        "Anything outside of this range, such a rating of 2.75 or higher than 4.25, would be seen as abnormal or uncommon.\n"
      ],
      "metadata": {
        "id": "pKVL22OO-q4p"
      },
      "id": "pKVL22OO-q4p"
    },
    {
      "cell_type": "markdown",
      "source": [
        "**Run** the code below. It will generate the probability distribution graphs for **each** of the age groups along with their discrete probability distribution tables, the Expectd values, and the Standard Deviation values."
      ],
      "metadata": {
        "id": "RCniOavqBv_L"
      },
      "id": "RCniOavqBv_L"
    },
    {
      "cell_type": "code",
      "source": [
        "import numpy as np\n",
        "import pandas as pd\n",
        "import matplotlib.pyplot as plt\n",
        "import scipy.stats as stats\n",
        "\n",
        "# Assuming your data is stored in a CSV file named 'data.csv'\n",
        "data = pd.read_csv('RelianceRetailVisits_ordered.csv')\n",
        "\n",
        "# Define age groups including the new one\n",
        "age_groups = ['16  To  25 years', '26  To  35 years', '36  To  45 years', '46  To  60 years']  # Added new age group\n",
        "\n",
        "# Plot separate discrete probability distributions for each age group\n",
        "fig, axs = plt.subplots(1, 4, figsize=(20, 6), sharex=True, gridspec_kw={'hspace': 0.5})  # Adjusted size and spacing\n",
        "\n",
        "for i, age_group in enumerate(age_groups):\n",
        "    age_data = data[data['Age Group'] == age_group]\n",
        "    rating_counts = age_data['OverallExperienceRatin'].value_counts(normalize=True).sort_index()\n",
        "    bars = axs[i].bar(rating_counts.index, rating_counts, alpha=0.7)\n",
        "    axs[i].set_title(f'{age_group}\\nMean: {age_data[\"OverallExperienceRatin\"].mean():.2f} | SD: {age_data[\"OverallExperienceRatin\"].std():.2f}')  # Age group, Mean, and SD\n",
        "    axs[i].set_xlabel('Overall Experience Rating')\n",
        "    axs[i].set_ylabel('Probability (%)')  # Set y-axis label to Probability (%)\n",
        "    axs[i].set_xticks(range(1, 6))  # Set x-axis ticks from 1 to 5\n",
        "    axs[i].set_yticklabels(['{:,.0%}'.format(x) for x in axs[i].get_yticks()])  # Format y-axis tick labels as percentages\n",
        "\n",
        "    # Display percentages above each bar\n",
        "    for bar in bars:\n",
        "        height = bar.get_height()\n",
        "        rating = bar.get_x() + bar.get_width() / 2\n",
        "        if height == 0:  # If the height is 0%, display '0%'\n",
        "            axs[i].text(rating, height, '0%', ha='center', va='bottom', fontsize=8)\n",
        "        else:\n",
        "            axs[i].text(rating, height, f'{height:.0%}', ha='center', va='bottom', fontsize=8)\n",
        "\n",
        "    axs[i].grid(axis='y', linestyle='--', alpha=0.7)\n",
        "\n",
        "# Hide the warning about FixedFormatter\n",
        "import warnings\n",
        "warnings.filterwarnings(\"ignore\", category=UserWarning)\n",
        "\n",
        "plt.tight_layout()\n",
        "plt.show()\n"
      ],
      "metadata": {
        "id": "nIfR0MykDohU",
        "colab": {
          "base_uri": "https://localhost:8080/",
          "height": 474
        },
        "outputId": "c5d4010c-f78b-4121-f780-6d5469e0c997"
      },
      "id": "nIfR0MykDohU",
      "execution_count": 19,
      "outputs": [
        {
          "output_type": "stream",
          "name": "stderr",
          "text": [
            "<ipython-input-19-e3aa8190ed23>:23: UserWarning: FixedFormatter should only be used together with FixedLocator\n",
            "  axs[i].set_yticklabels(['{:,.0%}'.format(x) for x in axs[i].get_yticks()])  # Format y-axis tick labels as percentages\n",
            "<ipython-input-19-e3aa8190ed23>:23: UserWarning: FixedFormatter should only be used together with FixedLocator\n",
            "  axs[i].set_yticklabels(['{:,.0%}'.format(x) for x in axs[i].get_yticks()])  # Format y-axis tick labels as percentages\n",
            "<ipython-input-19-e3aa8190ed23>:23: UserWarning: FixedFormatter should only be used together with FixedLocator\n",
            "  axs[i].set_yticklabels(['{:,.0%}'.format(x) for x in axs[i].get_yticks()])  # Format y-axis tick labels as percentages\n",
            "<ipython-input-19-e3aa8190ed23>:23: UserWarning: FixedFormatter should only be used together with FixedLocator\n",
            "  axs[i].set_yticklabels(['{:,.0%}'.format(x) for x in axs[i].get_yticks()])  # Format y-axis tick labels as percentages\n"
          ]
        },
        {
          "output_type": "display_data",
          "data": {
            "text/plain": [
              "<Figure size 2000x600 with 4 Axes>"
            ],
            "image/png": "[encoded data removed]"
          },
          "metadata": {}
        }
      ]
    },
    {
      "cell_type": "code",
      "source": [
        "data.info()"
      ],
      "metadata": {
        "colab": {
          "base_uri": "https://localhost:8080/"
        },
        "id": "bF28N8jHBWyn",
        "outputId": "a27a53ce-6731-43f3-ae6a-36db390b5e01"
      },
      "id": "bF28N8jHBWyn",
      "execution_count": 20,
      "outputs": [
        {
          "output_type": "stream",
          "name": "stdout",
          "text": [
            "<class 'pandas.core.frame.DataFrame'>\n",
            "RangeIndex: 40 entries, 0 to 39\n",
            "Data columns (total 3 columns):\n",
            " #   Column                  Non-Null Count  Dtype \n",
            "---  ------                  --------------  ----- \n",
            " 0   Customer Index          40 non-null     int64 \n",
            " 1   Age Group               40 non-null     object\n",
            " 2   OverallExperienceRatin  40 non-null     int64 \n",
            "dtypes: int64(2), object(1)\n",
            "memory usage: 1.1+ KB\n"
          ]
        }
      ]
    },
    {
      "cell_type": "markdown",
      "source": [
        "**Question 2f.** Identify any trends or differences in customer satisfaction levels (and variability) among the different age groups.\n",
        "\n",
        "Now, using these insights, what concrete improvements would you make to your store to ensure that **all** customers are satisfied with your services?"
      ],
      "metadata": {
        "id": "FxEN14vf7Rw9"
      },
      "id": "FxEN14vf7Rw9"
    },
    {
      "cell_type": "code",
      "source": [
        "import pandas as pd\n",
        "import matplotlib.pyplot as plt\n",
        "import seaborn as sns\n",
        "\n",
        "\n",
        "# Calculate mean and standard deviation of ratings for each age group\n",
        "grouped_mean = data.groupby('Age Group')['OverallExperienceRatin'].mean()\n",
        "grouped_std = data.groupby('Age Group')['OverallExperienceRatin'].std()\n"
      ],
      "metadata": {
        "id": "DCkPEHqiCiBi"
      },
      "id": "DCkPEHqiCiBi",
      "execution_count": 21,
      "outputs": []
    },
    {
      "cell_type": "code",
      "source": [
        "# Plot bar graph of mean ratings\n",
        "plt.figure(figsize=(12, 6))\n",
        "sns.barplot(x=grouped_mean.index, y=grouped_mean.values, palette='viridis')\n",
        "plt.xlabel('Age Group')\n",
        "plt.ylabel('Average Rating')\n",
        "plt.title('Average Rating by Age Group')\n",
        "plt.show()"
      ],
      "metadata": {
        "colab": {
          "base_uri": "https://localhost:8080/",
          "height": 598
        },
        "id": "jarW-6cXCxKb",
        "outputId": "a43ccb15-edd5-41e2-d8de-f687aa5c785e"
      },
      "id": "jarW-6cXCxKb",
      "execution_count": 22,
      "outputs": [
        {
          "output_type": "stream",
          "name": "stderr",
          "text": [
            "<ipython-input-22-fe1a3908a04c>:3: FutureWarning: \n",
            "\n",
            "Passing `palette` without assigning `hue` is deprecated and will be removed in v0.14.0. Assign the `x` variable to `hue` and set `legend=False` for the same effect.\n",
            "\n",
            "  sns.barplot(x=grouped_mean.index, y=grouped_mean.values, palette='viridis')\n"
          ]
        },
        {
          "output_type": "display_data",
          "data": {
            "text/plain": [
              "<Figure size 1200x600 with 1 Axes>"
            ],
            "image/png": "[encoded data removed]"
          },
          "metadata": {}
        }
      ]
    },
    {
      "cell_type": "code",
      "source": [
        "# Plot boxplot of ratings for each age group\n",
        "plt.figure(figsize=(12, 6))\n",
        "sns.boxplot(x='Age Group', y='OverallExperienceRatin', data=data, palette='viridis')\n",
        "plt.xlabel('Age Group')\n",
        "plt.ylabel('Rating')\n",
        "plt.title('Rating Distribution by Age Group')\n",
        "plt.show()"
      ],
      "metadata": {
        "colab": {
          "base_uri": "https://localhost:8080/",
          "height": 592
        },
        "id": "D21qniDACxN4",
        "outputId": "257510c3-1171-43a4-9e27-2ae316c374b5"
      },
      "id": "D21qniDACxN4",
      "execution_count": 23,
      "outputs": [
        {
          "output_type": "stream",
          "name": "stderr",
          "text": [
            "<ipython-input-23-e6a4f8a734a7>:3: FutureWarning: \n",
            "\n",
            "Passing `palette` without assigning `hue` is deprecated and will be removed in v0.14.0. Assign the `x` variable to `hue` and set `legend=False` for the same effect.\n",
            "\n",
            "  sns.boxplot(x='Age Group', y='OverallExperienceRatin', data=data, palette='viridis')\n"
          ]
        },
        {
          "output_type": "display_data",
          "data": {
            "text/plain": [
              "<Figure size 1200x600 with 1 Axes>"
            ],
            "image/png": "[encoded data removed]"
          },
          "metadata": {}
        }
      ]
    },
    {
      "cell_type": "code",
      "source": [
        "# Calculate mean and standard deviation of ratings for each age group\n",
        "grouped_mean = df.groupby('Age Group')['OverallExperienceRatin'].mean()\n",
        "grouped_std = df.groupby('Age Group')['OverallExperienceRatin'].std()\n",
        "\n",
        "# Display the mean and standard deviation for each age group\n",
        "print(\"Mean Ratings by Age Group:\")\n",
        "print(grouped_mean)\n",
        "print(\"\\nStandard Deviation of Ratings by Age Group:\")\n",
        "print(grouped_std)"
      ],
      "metadata": {
        "id": "gs4SiA28et-9",
        "colab": {
          "base_uri": "https://localhost:8080/"
        },
        "outputId": "1de99e48-73a1-43ef-95b0-2da325a0608d"
      },
      "id": "gs4SiA28et-9",
      "execution_count": 24,
      "outputs": [
        {
          "output_type": "stream",
          "name": "stdout",
          "text": [
            "Mean Ratings by Age Group:\n",
            "Age Group\n",
            "26  To  35 years    4.000000\n",
            "16  To  25 years    4.000000\n",
            "36  To  45 years    4.333333\n",
            "46  To  60 years    2.714286\n",
            "Name: OverallExperienceRatin, dtype: float64\n",
            "\n",
            "Standard Deviation of Ratings by Age Group:\n",
            "Age Group\n",
            "26  To  35 years    1.183216\n",
            "16  To  25 years    1.032796\n",
            "36  To  45 years    0.516398\n",
            "46  To  60 years    0.951190\n",
            "Name: OverallExperienceRatin, dtype: float64\n"
          ]
        }
      ]
    },
    {
      "cell_type": "code",
      "source": [
        "# Plot bar graph of mean ratings\n",
        "plt.figure(figsize=(12, 6))\n",
        "sns.barplot(x=grouped_mean.index, y=grouped_mean.values, palette='viridis')\n",
        "plt.xlabel('Age Group')\n",
        "plt.ylabel('Average Rating')\n",
        "plt.title('Average Rating by Age Group')\n",
        "plt.show()"
      ],
      "metadata": {
        "colab": {
          "base_uri": "https://localhost:8080/",
          "height": 598
        },
        "id": "GnO-oJKIGNVL",
        "outputId": "4e81b909-f5e1-40ec-bb5c-c60c6c4195af"
      },
      "id": "GnO-oJKIGNVL",
      "execution_count": 25,
      "outputs": [
        {
          "output_type": "stream",
          "name": "stderr",
          "text": [
            "<ipython-input-25-fe1a3908a04c>:3: FutureWarning: \n",
            "\n",
            "Passing `palette` without assigning `hue` is deprecated and will be removed in v0.14.0. Assign the `x` variable to `hue` and set `legend=False` for the same effect.\n",
            "\n",
            "  sns.barplot(x=grouped_mean.index, y=grouped_mean.values, palette='viridis')\n"
          ]
        },
        {
          "output_type": "display_data",
          "data": {
            "text/plain": [
              "<Figure size 1200x600 with 1 Axes>"
            ],
            "image/png": "[encoded data removed]"
          },
          "metadata": {}
        }
      ]
    },
    {
      "cell_type": "code",
      "source": [
        "# Plot boxplot of ratings for each age group\n",
        "plt.figure(figsize=(12, 6))\n",
        "sns.boxplot(x='Age Group', y='OverallExperienceRatin', data=df, palette='viridis')\n",
        "plt.xlabel('Age Group')\n",
        "plt.ylabel('Rating')\n",
        "plt.title('Rating Distribution by Age Group')\n",
        "plt.show()"
      ],
      "metadata": {
        "id": "_OFcTPIfscWG",
        "colab": {
          "base_uri": "https://localhost:8080/",
          "height": 592
        },
        "outputId": "09f83b14-19f9-4fe9-b0a5-c7d4287ea475"
      },
      "id": "_OFcTPIfscWG",
      "execution_count": 26,
      "outputs": [
        {
          "output_type": "stream",
          "name": "stderr",
          "text": [
            "<ipython-input-26-6d031c021b61>:3: FutureWarning: \n",
            "\n",
            "Passing `palette` without assigning `hue` is deprecated and will be removed in v0.14.0. Assign the `x` variable to `hue` and set `legend=False` for the same effect.\n",
            "\n",
            "  sns.boxplot(x='Age Group', y='OverallExperienceRatin', data=df, palette='viridis')\n"
          ]
        },
        {
          "output_type": "display_data",
          "data": {
            "text/plain": [
              "<Figure size 1200x600 with 1 Axes>"
            ],
            "image/png": "[encoded data removed]"
          },
          "metadata": {}
        }
      ]
    },
    {
      "cell_type": "markdown",
      "source": [
        "# C. Statistical Intuition in SAT Exams\n"
      ],
      "metadata": {
        "id": "bxWs676vPuB5"
      },
      "id": "bxWs676vPuB5"
    },
    {
      "cell_type": "markdown",
      "id": "1eba7ec0",
      "metadata": {
        "id": "1eba7ec0"
      },
      "source": [
        "\n",
        "# **Question 3:**\n",
        "\n",
        "Imagine you are working for a prestigious university in the UAE. It is your job to decide which students are admitted to the university. To help you do this, you analyze the high school (SAT) scores of potential students. These scores help you understand their academic readiness and potential for success at the university.\n",
        "\n",
        "You have just received the scores of applicants who would like to join the university in September 2024. These scores follow a **normal distribution**."
      ]
    },
    {
      "cell_type": "markdown",
      "source": [
        "**To Begin**.  \n",
        "\n",
        "Run the code below. It will generate a dataset with the students scores. It will also calculate the **mean (μ)** and **standard deviation (σ)** of these scores. This dataset will be saved as a CSV file called **\"Scores.csv\"**. Again, you need to submit this file in the same zip folder as your other files."
      ],
      "metadata": {
        "id": "FRRhnhzbp1tW"
      },
      "id": "FRRhnhzbp1tW"
    },
    {
      "cell_type": "code",
      "source": [
        "# Load the following libraries so that they can be applied in the subsequent code blocks\n",
        "\n",
        "\n",
        "import pandas as pd\n",
        "import numpy as np\n",
        "import random\n",
        "\n",
        "try:\n",
        "    SATScores = pd.read_csv('Scores.csv')\n",
        "except FileNotFoundError:\n",
        "    num_samples = 1000\n",
        "    mean_score = random.randint(800, 1200)\n",
        "    std_deviation = random.randint(100, 300)\n",
        "    scores = np.random.normal(mean_score, std_deviation, num_samples)\n",
        "    scores = np.round(scores, 0)\n",
        "    SATScores = pd.DataFrame({'Scores': scores})\n",
        "    SATScores.to_csv('Scores.csv')\n",
        "\n",
        "# Calculate mean and standard deviation\n",
        "mean_score = SATScores['Scores'].mean()\n",
        "std_deviation = SATScores['Scores'].std()\n",
        "\n",
        "# Print mean score and standard deviation\n",
        "print(\"Mean score:\", mean_score)\n",
        "print(\"Standard deviation:\", std_deviation)\n",
        "\n",
        "# Display the dataset\n",
        "SATScores.head()\n"
      ],
      "metadata": {
        "id": "jQI-U8Gw8d8g",
        "colab": {
          "base_uri": "https://localhost:8080/",
          "height": 241
        },
        "outputId": "57b5730c-eb52-4b08-b6ad-107e00b2977b"
      },
      "id": "jQI-U8Gw8d8g",
      "execution_count": 27,
      "outputs": [
        {
          "output_type": "stream",
          "name": "stdout",
          "text": [
            "Mean score: 949.104\n",
            "Standard deviation: 118.8293044143051\n"
          ]
        },
        {
          "output_type": "execute_result",
          "data": {
            "text/plain": [
              "   Scores\n",
              "0   951.0\n",
              "1  1036.0\n",
              "2  1058.0\n",
              "3  1091.0\n",
              "4   754.0"
            ],
            "text/html": [
              "\n",
              "  <div id=\"df-78301ba4-dee3-46f0-8d04-179363bdbf51\" class=\"colab-df-container\">\n",
              "    <div>\n",
              "<style scoped>\n",
              "    .dataframe tbody tr th:only-of-type {\n",
              "        vertical-align: middle;\n",
              "    }\n",
              "\n",
              "    .dataframe tbody tr th {\n",
              "        vertical-align: top;\n",
              "    }\n",
              "\n",
              "    .dataframe thead th {\n",
              "        text-align: right;\n",
              "    }\n",
              "</style>\n",
              "<table border=\"1\" class=\"dataframe\">\n",
              "  <thead>\n",
              "    <tr style=\"text-align: right;\">\n",
              "      <th></th>\n",
              "      <th>Scores</th>\n",
              "    </tr>\n",
              "  </thead>\n",
              "  <tbody>\n",
              "    <tr>\n",
              "      <th>0</th>\n",
              "      <td>951.0</td>\n",
              "    </tr>\n",
              "    <tr>\n",
              "      <th>1</th>\n",
              "      <td>1036.0</td>\n",
              "    </tr>\n",
              "    <tr>\n",
              "      <th>2</th>\n",
              "      <td>1058.0</td>\n",
              "    </tr>\n",
              "    <tr>\n",
              "      <th>3</th>\n",
              "      <td>1091.0</td>\n",
              "    </tr>\n",
              "    <tr>\n",
              "      <th>4</th>\n",
              "      <td>754.0</td>\n",
              "    </tr>\n",
              "  </tbody>\n",
              "</table>\n",
              "</div>\n",
              "    <div class=\"colab-df-buttons\">\n",
              "\n",
              "  <div class=\"colab-df-container\">\n",
              "    <button class=\"colab-df-convert\" onclick=\"convertToInteractive('df-78301ba4-dee3-46f0-8d04-179363bdbf51')\"\n",
              "            title=\"Convert this dataframe to an interactive table.\"\n",
              "            style=\"display:none;\">\n",
              "\n",
              "  <svg xmlns=\"http://www.w3.org/2000/svg\" height=\"24px\" viewBox=\"0 -960 960 960\">\n",
              "    <path d=\"M120-120v-720h720v720H120Zm60-500h600v-160H180v160Zm220 220h160v-160H400v160Zm0 220h160v-160H400v160ZM180-400h160v-160H180v160Zm440 0h160v-160H620v160ZM180-180h160v-160H180v160Zm440 0h160v-160H620v160Z\"/>\n",
              "  </svg>\n",
              "    </button>\n",
              "\n",
              "  <style>\n",
              "    .colab-df-container {\n",
              "      display:flex;\n",
              "      gap: 12px;\n",
              "    }\n",
              "\n",
              "    .colab-df-convert {\n",
              "      background-color: #E8F0FE;\n",
              "      border: none;\n",
              "      border-radius: 50%;\n",
              "      cursor: pointer;\n",
              "      display: none;\n",
              "      fill: #1967D2;\n",
              "      height: 32px;\n",
              "      padding: 0 0 0 0;\n",
              "      width: 32px;\n",
              "    }\n",
              "\n",
              "    .colab-df-convert:hover {\n",
              "      background-color: #E2EBFA;\n",
              "      box-shadow: 0px 1px 2px rgba(60, 64, 67, 0.3), 0px 1px 3px 1px rgba(60, 64, 67, 0.15);\n",
              "      fill: #174EA6;\n",
              "    }\n",
              "\n",
              "    .colab-df-buttons div {\n",
              "      margin-bottom: 4px;\n",
              "    }\n",
              "\n",
              "    [theme=dark] .colab-df-convert {\n",
              "      background-color: #3B4455;\n",
              "      fill: #D2E3FC;\n",
              "    }\n",
              "\n",
              "    [theme=dark] .colab-df-convert:hover {\n",
              "      background-color: #434B5C;\n",
              "      box-shadow: 0px 1px 3px 1px rgba(0, 0, 0, 0.15);\n",
              "      filter: drop-shadow(0px 1px 2px rgba(0, 0, 0, 0.3));\n",
              "      fill: #FFFFFF;\n",
              "    }\n",
              "  </style>\n",
              "\n",
              "    <script>\n",
              "      const buttonEl =\n",
              "        document.querySelector('#df-78301ba4-dee3-46f0-8d04-179363bdbf51 button.colab-df-convert');\n",
              "      buttonEl.style.display =\n",
              "        google.colab.kernel.accessAllowed ? 'block' : 'none';\n",
              "\n",
              "      async function convertToInteractive(key) {\n",
              "        const element = document.querySelector('#df-78301ba4-dee3-46f0-8d04-179363bdbf51');\n",
              "        const dataTable =\n",
              "          await google.colab.kernel.invokeFunction('convertToInteractive',\n",
              "                                                    [key], {});\n",
              "        if (!dataTable) return;\n",
              "\n",
              "        const docLinkHtml = 'Like what you see? Visit the ' +\n",
              "          '<a target=\"_blank\" href=https://colab.research.google.com/notebooks/data_table.ipynb>data table notebook</a>'\n",
              "          + ' to learn more about interactive tables.';\n",
              "        element.innerHTML = '';\n",
              "        dataTable['output_type'] = 'display_data';\n",
              "        await google.colab.output.renderOutput(dataTable, element);\n",
              "        const docLink = document.createElement('div');\n",
              "        docLink.innerHTML = docLinkHtml;\n",
              "        element.appendChild(docLink);\n",
              "      }\n",
              "    </script>\n",
              "  </div>\n",
              "\n",
              "\n",
              "<div id=\"df-3439e001-d284-4a23-88ac-5d3a6d43c1c3\">\n",
              "  <button class=\"colab-df-quickchart\" onclick=\"quickchart('df-3439e001-d284-4a23-88ac-5d3a6d43c1c3')\"\n",
              "            title=\"Suggest charts\"\n",
              "            style=\"display:none;\">\n",
              "\n",
              "<svg xmlns=\"http://www.w3.org/2000/svg\" height=\"24px\"viewBox=\"0 0 24 24\"\n",
              "     width=\"24px\">\n",
              "    <g>\n",
              "        <path d=\"M19 3H5c-1.1 0-2 .9-2 2v14c0 1.1.9 2 2 2h14c1.1 0 2-.9 2-2V5c0-1.1-.9-2-2-2zM9 17H7v-7h2v7zm4 0h-2V7h2v10zm4 0h-2v-4h2v4z\"/>\n",
              "    </g>\n",
              "</svg>\n",
              "  </button>\n",
              "\n",
              "<style>\n",
              "  .colab-df-quickchart {\n",
              "      --bg-color: #E8F0FE;\n",
              "      --fill-color: #1967D2;\n",
              "      --hover-bg-color: #E2EBFA;\n",
              "      --hover-fill-color: #174EA6;\n",
              "      --disabled-fill-color: #AAA;\n",
              "      --disabled-bg-color: #DDD;\n",
              "  }\n",
              "\n",
              "  [theme=dark] .colab-df-quickchart {\n",
              "      --bg-color: #3B4455;\n",
              "      --fill-color: #D2E3FC;\n",
              "      --hover-bg-color: #434B5C;\n",
              "      --hover-fill-color: #FFFFFF;\n",
              "      --disabled-bg-color: #3B4455;\n",
              "      --disabled-fill-color: #666;\n",
              "  }\n",
              "\n",
              "  .colab-df-quickchart {\n",
              "    background-color: var(--bg-color);\n",
              "    border: none;\n",
              "    border-radius: 50%;\n",
              "    cursor: pointer;\n",
              "    display: none;\n",
              "    fill: var(--fill-color);\n",
              "    height: 32px;\n",
              "    padding: 0;\n",
              "    width: 32px;\n",
              "  }\n",
              "\n",
              "  .colab-df-quickchart:hover {\n",
              "    background-color: var(--hover-bg-color);\n",
              "    box-shadow: 0 1px 2px rgba(60, 64, 67, 0.3), 0 1px 3px 1px rgba(60, 64, 67, 0.15);\n",
              "    fill: var(--button-hover-fill-color);\n",
              "  }\n",
              "\n",
              "  .colab-df-quickchart-complete:disabled,\n",
              "  .colab-df-quickchart-complete:disabled:hover {\n",
              "    background-color: var(--disabled-bg-color);\n",
              "    fill: var(--disabled-fill-color);\n",
              "    box-shadow: none;\n",
              "  }\n",
              "\n",
              "  .colab-df-spinner {\n",
              "    border: 2px solid var(--fill-color);\n",
              "    border-color: transparent;\n",
              "    border-bottom-color: var(--fill-color);\n",
              "    animation:\n",
              "      spin 1s steps(1) infinite;\n",
              "  }\n",
              "\n",
              "  @keyframes spin {\n",
              "    0% {\n",
              "      border-color: transparent;\n",
              "      border-bottom-color: var(--fill-color);\n",
              "      border-left-color: var(--fill-color);\n",
              "    }\n",
              "    20% {\n",
              "      border-color: transparent;\n",
              "      border-left-color: var(--fill-color);\n",
              "      border-top-color: var(--fill-color);\n",
              "    }\n",
              "    30% {\n",
              "      border-color: transparent;\n",
              "      border-left-color: var(--fill-color);\n",
              "      border-top-color: var(--fill-color);\n",
              "      border-right-color: var(--fill-color);\n",
              "    }\n",
              "    40% {\n",
              "      border-color: transparent;\n",
              "      border-right-color: var(--fill-color);\n",
              "      border-top-color: var(--fill-color);\n",
              "    }\n",
              "    60% {\n",
              "      border-color: transparent;\n",
              "      border-right-color: var(--fill-color);\n",
              "    }\n",
              "    80% {\n",
              "      border-color: transparent;\n",
              "      border-right-color: var(--fill-color);\n",
              "      border-bottom-color: var(--fill-color);\n",
              "    }\n",
              "    90% {\n",
              "      border-color: transparent;\n",
              "      border-bottom-color: var(--fill-color);\n",
              "    }\n",
              "  }\n",
              "</style>\n",
              "\n",
              "  <script>\n",
              "    async function quickchart(key) {\n",
              "      const quickchartButtonEl =\n",
              "        document.querySelector('#' + key + ' button');\n",
              "      quickchartButtonEl.disabled = true;  // To prevent multiple clicks.\n",
              "      quickchartButtonEl.classList.add('colab-df-spinner');\n",
              "      try {\n",
              "        const charts = await google.colab.kernel.invokeFunction(\n",
              "            'suggestCharts', [key], {});\n",
              "      } catch (error) {\n",
              "        console.error('Error during call to suggestCharts:', error);\n",
              "      }\n",
              "      quickchartButtonEl.classList.remove('colab-df-spinner');\n",
              "      quickchartButtonEl.classList.add('colab-df-quickchart-complete');\n",
              "    }\n",
              "    (() => {\n",
              "      let quickchartButtonEl =\n",
              "        document.querySelector('#df-3439e001-d284-4a23-88ac-5d3a6d43c1c3 button');\n",
              "      quickchartButtonEl.style.display =\n",
              "        google.colab.kernel.accessAllowed ? 'block' : 'none';\n",
              "    })();\n",
              "  </script>\n",
              "</div>\n",
              "\n",
              "    </div>\n",
              "  </div>\n"
            ],
            "application/vnd.google.colaboratory.intrinsic+json": {
              "type": "dataframe",
              "variable_name": "SATScores",
              "summary": "{\n  \"name\": \"SATScores\",\n  \"rows\": 1000,\n  \"fields\": [\n    {\n      \"column\": \"Scores\",\n      \"properties\": {\n        \"dtype\": \"number\",\n        \"std\": 118.8293044143051,\n        \"min\": 606.0,\n        \"max\": 1413.0,\n        \"num_unique_values\": 418,\n        \"samples\": [\n          1103.0,\n          749.0,\n          1206.0\n        ],\n        \"semantic_type\": \"\",\n        \"description\": \"\"\n      }\n    }\n  ]\n}"
            }
          },
          "metadata": {},
          "execution_count": 27
        }
      ]
    },
    {
      "cell_type": "code",
      "source": [
        "SATScores.info()"
      ],
      "metadata": {
        "colab": {
          "base_uri": "https://localhost:8080/"
        },
        "id": "43pXuS0xHcv6",
        "outputId": "8f4e9f52-d541-441e-ac64-c94bd25aa160"
      },
      "id": "43pXuS0xHcv6",
      "execution_count": 29,
      "outputs": [
        {
          "output_type": "stream",
          "name": "stdout",
          "text": [
            "<class 'pandas.core.frame.DataFrame'>\n",
            "RangeIndex: 1000 entries, 0 to 999\n",
            "Data columns (total 1 columns):\n",
            " #   Column  Non-Null Count  Dtype  \n",
            "---  ------  --------------  -----  \n",
            " 0   Scores  1000 non-null   float64\n",
            "dtypes: float64(1)\n",
            "memory usage: 7.9 KB\n"
          ]
        }
      ]
    },
    {
      "cell_type": "markdown",
      "source": [
        "#Question 3a.\n",
        "What is the probability that a randomly selected applicant scored at least 1300? Show your work."
      ],
      "metadata": {
        "id": "SiRWRYlFIgem"
      },
      "id": "SiRWRYlFIgem"
    },
    {
      "cell_type": "code",
      "source": [
        "import pandas as pd\n",
        "import numpy as np\n",
        "from scipy.stats import norm\n",
        "\n",
        "\n",
        "# Assuming the dataset has a column named 'Scores'\n",
        "scores = SATScores['Scores']\n",
        "\n",
        "# Calculate the mean and standard deviation of the scores\n",
        "mean = scores.mean()\n",
        "std_dev = scores.std()\n",
        "\n",
        "# Calculate the z-score for the score of 1300\n",
        "z_score = (1300 - mean) / std_dev\n",
        "\n",
        "# Calculate the probability using the cumulative distribution function (CDF)\n",
        "probability = 1 - norm.cdf(z_score)\n",
        "\n",
        "print(f\"The probability that a randomly selected applicant scored at least 1300 is: {probability:.4f}\")\n"
      ],
      "metadata": {
        "colab": {
          "base_uri": "https://localhost:8080/"
        },
        "id": "-xkgBjVWH6t9",
        "outputId": "799e2e68-85ff-48a5-f42b-7806815e4522"
      },
      "id": "-xkgBjVWH6t9",
      "execution_count": 30,
      "outputs": [
        {
          "output_type": "stream",
          "name": "stdout",
          "text": [
            "The probability that a randomly selected applicant scored at least 1300 is: 0.0016\n"
          ]
        }
      ]
    },
    {
      "cell_type": "markdown",
      "source": [
        "#Question 3b.\n",
        "\n",
        "What is the probability that a randomly selected applicant scored exactly 900? Show your work."
      ],
      "metadata": {
        "id": "nVF1osTtIfIL"
      },
      "id": "nVF1osTtIfIL"
    },
    {
      "cell_type": "code",
      "source": [
        "import pandas as pd\n",
        "import numpy as np\n",
        "from scipy.stats import norm\n",
        "\n",
        "\n",
        "\n",
        "# Assuming the dataset has a column named 'Scores'\n",
        "scores = SATScores['Scores']\n",
        "\n",
        "# Calculate the mean and standard deviation of the scores\n",
        "mean = scores.mean()\n",
        "std_dev = scores.std()\n",
        "\n",
        "# Calculate the probability using the PDF for a small range around 900\n",
        "lower_bound = 900 - 0.5  # Lower bound of the range\n",
        "upper_bound = 900 + 0.5  # Upper bound of the range\n",
        "\n",
        "# Calculate the z-scores for the lower and upper bounds\n",
        "z_lower = (lower_bound - mean) / std_dev\n",
        "z_upper = (upper_bound - mean) / std_dev\n",
        "\n",
        "# Calculate the probability within the range using the CDF\n",
        "probability = norm.cdf(z_upper) - norm.cdf(z_lower)\n",
        "\n",
        "print(f\"The probability that a randomly selected applicant scored exactly 900 is: {probability:.4f}\")\n"
      ],
      "metadata": {
        "colab": {
          "base_uri": "https://localhost:8080/"
        },
        "id": "0OTMTVOyIxiP",
        "outputId": "7f6b77e0-9689-44c1-a284-7acebd50b88e"
      },
      "id": "0OTMTVOyIxiP",
      "execution_count": 31,
      "outputs": [
        {
          "output_type": "stream",
          "name": "stdout",
          "text": [
            "The probability that a randomly selected applicant scored exactly 900 is: 0.0031\n"
          ]
        }
      ]
    },
    {
      "cell_type": "markdown",
      "source": [
        "#Question 3c.\n",
        "What percentage of applicants scored between 900 and 1000? Show your work."
      ],
      "metadata": {
        "id": "maBXPE1fJHfN"
      },
      "id": "maBXPE1fJHfN"
    },
    {
      "cell_type": "code",
      "source": [
        "import pandas as pd\n",
        "import numpy as np\n",
        "from scipy.stats import norm\n",
        "\n",
        "\n",
        "# Assuming the dataset has a column named 'Scores'\n",
        "scores = SATScores['Scores']\n",
        "\n",
        "# Calculate the mean and standard deviation of the scores\n",
        "mean = scores.mean()\n",
        "std_dev = scores.std()\n",
        "\n",
        "# Calculate the z-scores for 900 and 1000\n",
        "z_900 = (900 - mean) / std_dev\n",
        "z_1000 = (1000 - mean) / std_dev\n",
        "\n",
        "# Calculate the probabilities for 900 and 1000\n",
        "prob_900 = norm.cdf(z_900)\n",
        "prob_1000 = norm.cdf(z_1000)\n",
        "\n",
        "# Calculate the percentage between 900 and 1000\n",
        "percentage = (prob_1000 - prob_900) * 100\n",
        "\n",
        "print(f\"The percentage of applicants who scored between 900 and 1000 is: {percentage:.2f}%\")\n"
      ],
      "metadata": {
        "colab": {
          "base_uri": "https://localhost:8080/"
        },
        "id": "ACUO_yz_JRfL",
        "outputId": "0916f60b-0aae-4888-bcdb-41552af91c72"
      },
      "id": "ACUO_yz_JRfL",
      "execution_count": 32,
      "outputs": [
        {
          "output_type": "stream",
          "name": "stdout",
          "text": [
            "The percentage of applicants who scored between 900 and 1000 is: 32.61%\n"
          ]
        }
      ]
    },
    {
      "cell_type": "markdown",
      "source": [
        "#Question 3d.\n",
        "\n",
        "Calculate the 40th percentile of scores among the applicants. What does this value represent in the context of the admissions process? Show your work."
      ],
      "metadata": {
        "id": "xmfFx24qJkSc"
      },
      "id": "xmfFx24qJkSc"
    },
    {
      "cell_type": "code",
      "source": [
        "from scipy.stats import percentileofscore\n",
        "\n",
        "# Assuming the dataset has a column named 'Scores'\n",
        "scores = SATScores['Scores']\n",
        "\n",
        "# Calculate the 40th percentile\n",
        "percentile_40 = np.percentile(scores, 40)\n",
        "\n",
        "print(f\"The 40th percentile of scores among the applicants is: {percentile_40}\")\n"
      ],
      "metadata": {
        "colab": {
          "base_uri": "https://localhost:8080/"
        },
        "id": "UImBP_MmJqN5",
        "outputId": "150dfeb7-147c-4bcc-8239-9d475d5838fd"
      },
      "id": "UImBP_MmJqN5",
      "execution_count": 33,
      "outputs": [
        {
          "output_type": "stream",
          "name": "stdout",
          "text": [
            "The 40th percentile of scores among the applicants is: 918.0\n"
          ]
        }
      ]
    },
    {
      "cell_type": "markdown",
      "source": [
        "#Question 3e.\n",
        "\n",
        "Imagine the university wants to offer scholarships to the top 10% of applicants based on their scores. What minimum score would an applicant need to qualify for a scholarship? Show your work."
      ],
      "metadata": {
        "id": "hksgga3jJ_0Z"
      },
      "id": "hksgga3jJ_0Z"
    },
    {
      "cell_type": "code",
      "source": [
        "# Calculate the minimum score for the top 10% (90th percentile)\n",
        "minimum_score = np.percentile(scores, 90)\n",
        "\n",
        "print(f\"The minimum score for an applicant to qualify for a scholarship is: {minimum_score}\")"
      ],
      "metadata": {
        "colab": {
          "base_uri": "https://localhost:8080/"
        },
        "id": "LUpseISrKg3x",
        "outputId": "1f432be9-dfec-4fa3-d864-ed4dc8ec98d1"
      },
      "id": "LUpseISrKg3x",
      "execution_count": 34,
      "outputs": [
        {
          "output_type": "stream",
          "name": "stdout",
          "text": [
            "The minimum score for an applicant to qualify for a scholarship is: 1099.1\n"
          ]
        }
      ]
    },
    {
      "cell_type": "markdown",
      "source": [
        "#Question 3f.\n",
        "\n",
        "Remember, as the admissions officer, it is your job to identify applicants with exceptional academic potential. Would you automatically recommend that applicants with SAT scores above 1400 to be admitted into the university? Or do you think additional criteria should also be considered? Explain your reasoning."
      ],
      "metadata": {
        "id": "85nZjztuKm5b"
      },
      "id": "85nZjztuKm5b"
    },
    {
      "cell_type": "markdown",
      "source": [
        "#Answer\n",
        "I would not automatically recommend that applicants with SAT scores above 1400 be admitted into the university without considering additional criteria. While a high SAT score is an important indicator of academic potential, it should not be the sole criteria for admission.\n",
        "\n",
        "It is important to take into account additional elements such the applicant's GPA, letters of reference, personal statement, extracurricular activities, and likelihood of making a contribution to the university community. Beyond test results, these extra factors offer a more complete picture of the candidate and can assist in assessing if they are a suitable match for the university.\n",
        "\n",
        "** Additionally,** it's important to consider the context in which the SAT scores were achieved. Some applicants may have faced challenges or circumstances that impacted their test performance, and these should be taken into account when evaluating their application."
      ],
      "metadata": {
        "id": "CimRDt9bLPSQ"
      },
      "id": "CimRDt9bLPSQ"
    },
    {
      "cell_type": "code",
      "execution_count": 35,
      "id": "7832e424",
      "metadata": {
        "id": "7832e424",
        "colab": {
          "base_uri": "https://localhost:8080/",
          "height": 564
        },
        "outputId": "22dbd9b6-11bb-4e41-fd10-eb42a887fce7"
      },
      "outputs": [
        {
          "output_type": "display_data",
          "data": {
            "text/plain": [
              "<Figure size 600x600 with 1 Axes>"
            ],
            "image/png": "[encoded data removed]"
          },
          "metadata": {}
        }
      ],
      "source": [
        "import pandas as pd\n",
        "import matplotlib.pyplot as plt\n",
        "\n",
        "# Create a histogram of SAT scores\n",
        "plt.figure(figsize=(6, 6))\n",
        "plt.hist(SATScores['Scores'], bins=20, color='skyblue', edgecolor='black')\n",
        "plt.xlabel('SAT Scores')\n",
        "plt.ylabel('Frequency')\n",
        "plt.title('Distribution of SAT Scores')\n",
        "plt.grid(axis='y', alpha=0.75)\n",
        "plt.show()\n"
      ]
    },
    {
      "cell_type": "markdown",
      "source": [
        "## D. Statistical Intuition in Public Health"
      ],
      "metadata": {
        "id": "BGuCvY42pedt"
      },
      "id": "BGuCvY42pedt"
    },
    {
      "cell_type": "markdown",
      "id": "ec4d1c16",
      "metadata": {
        "id": "ec4d1c16"
      },
      "source": [
        "# **Question 4:**\n",
        "\n",
        "Now imagine that it is year 2034 and you are working as a public health researcher in the UAE. You are working on a project to assess vaccination coverage for a new global pandemic. The UAE government has implemented a widespread vaccination campaign to combat the spread of the virus and achieve herd immunity. You want to determine the proportion of individuals who have received the new vaccine among a sample of 100 residents in different parts of the country."
      ]
    },
    {
      "cell_type": "markdown",
      "source": [
        "**To Begin**.  \n",
        "\n",
        "Run the code below. It will provide you with a random sample of 100 residents. It will save this data to a CSV file called **\"Vaccinated.csv\"**. Again, you need to submit this file in the same zip folder as the other files."
      ],
      "metadata": {
        "id": "JZblbGomp62I"
      },
      "id": "JZblbGomp62I"
    },
    {
      "cell_type": "code",
      "source": [
        "# Load the following libraries so that they can be applied in the subsequent code blocks\n",
        "\n",
        "import numpy as np\n",
        "import pandas as pd\n",
        "import matplotlib.pyplot as plt\n",
        "import random\n",
        "import scipy.stats as stats\n",
        "\n",
        "# Run this code. It will generate data and save it to a CSV file called \"Vaccinated.csv\". You need to submit it in the same zip folder as your other files.\n",
        "\n",
        "try:\n",
        "    Vaccinated = pd.read_csv('Vaccinated.csv')\n",
        "except FileNotFoundError:\n",
        "    num_samples = 100\n",
        "    vaccinated = np.random.choice([\"Yes\", \"No\"], size=num_samples)\n",
        "    Vaccinated = pd.DataFrame({'Vaccinated': vaccinated})\n",
        "    Vaccinated.to_csv('Vaccinated.csv')\n",
        "\n",
        "# Have a look at Vaccinated dataset.\n",
        "Vaccinated.head()"
      ],
      "metadata": {
        "id": "jNYbD-sBGy_A",
        "colab": {
          "base_uri": "https://localhost:8080/",
          "height": 206
        },
        "outputId": "4f156d51-d9bc-4aa9-f3a2-9408d2868bb5"
      },
      "id": "jNYbD-sBGy_A",
      "execution_count": 37,
      "outputs": [
        {
          "output_type": "execute_result",
          "data": {
            "text/plain": [
              "   Unnamed: 0 Vaccinated\n",
              "0           0         No\n",
              "1           1         No\n",
              "2           2         No\n",
              "3           3         No\n",
              "4           4         No"
            ],
            "text/html": [
              "\n",
              "  <div id=\"df-e10ab0b8-9470-442a-8ec1-609cade31ba7\" class=\"colab-df-container\">\n",
              "    <div>\n",
              "<style scoped>\n",
              "    .dataframe tbody tr th:only-of-type {\n",
              "        vertical-align: middle;\n",
              "    }\n",
              "\n",
              "    .dataframe tbody tr th {\n",
              "        vertical-align: top;\n",
              "    }\n",
              "\n",
              "    .dataframe thead th {\n",
              "        text-align: right;\n",
              "    }\n",
              "</style>\n",
              "<table border=\"1\" class=\"dataframe\">\n",
              "  <thead>\n",
              "    <tr style=\"text-align: right;\">\n",
              "      <th></th>\n",
              "      <th>Unnamed: 0</th>\n",
              "      <th>Vaccinated</th>\n",
              "    </tr>\n",
              "  </thead>\n",
              "  <tbody>\n",
              "    <tr>\n",
              "      <th>0</th>\n",
              "      <td>0</td>\n",
              "      <td>No</td>\n",
              "    </tr>\n",
              "    <tr>\n",
              "      <th>1</th>\n",
              "      <td>1</td>\n",
              "      <td>No</td>\n",
              "    </tr>\n",
              "    <tr>\n",
              "      <th>2</th>\n",
              "      <td>2</td>\n",
              "      <td>No</td>\n",
              "    </tr>\n",
              "    <tr>\n",
              "      <th>3</th>\n",
              "      <td>3</td>\n",
              "      <td>No</td>\n",
              "    </tr>\n",
              "    <tr>\n",
              "      <th>4</th>\n",
              "      <td>4</td>\n",
              "      <td>No</td>\n",
              "    </tr>\n",
              "  </tbody>\n",
              "</table>\n",
              "</div>\n",
              "    <div class=\"colab-df-buttons\">\n",
              "\n",
              "  <div class=\"colab-df-container\">\n",
              "    <button class=\"colab-df-convert\" onclick=\"convertToInteractive('df-e10ab0b8-9470-442a-8ec1-609cade31ba7')\"\n",
              "            title=\"Convert this dataframe to an interactive table.\"\n",
              "            style=\"display:none;\">\n",
              "\n",
              "  <svg xmlns=\"http://www.w3.org/2000/svg\" height=\"24px\" viewBox=\"0 -960 960 960\">\n",
              "    <path d=\"M120-120v-720h720v720H120Zm60-500h600v-160H180v160Zm220 220h160v-160H400v160Zm0 220h160v-160H400v160ZM180-400h160v-160H180v160Zm440 0h160v-160H620v160ZM180-180h160v-160H180v160Zm440 0h160v-160H620v160Z\"/>\n",
              "  </svg>\n",
              "    </button>\n",
              "\n",
              "  <style>\n",
              "    .colab-df-container {\n",
              "      display:flex;\n",
              "      gap: 12px;\n",
              "    }\n",
              "\n",
              "    .colab-df-convert {\n",
              "      background-color: #E8F0FE;\n",
              "      border: none;\n",
              "      border-radius: 50%;\n",
              "      cursor: pointer;\n",
              "      display: none;\n",
              "      fill: #1967D2;\n",
              "      height: 32px;\n",
              "      padding: 0 0 0 0;\n",
              "      width: 32px;\n",
              "    }\n",
              "\n",
              "    .colab-df-convert:hover {\n",
              "      background-color: #E2EBFA;\n",
              "      box-shadow: 0px 1px 2px rgba(60, 64, 67, 0.3), 0px 1px 3px 1px rgba(60, 64, 67, 0.15);\n",
              "      fill: #174EA6;\n",
              "    }\n",
              "\n",
              "    .colab-df-buttons div {\n",
              "      margin-bottom: 4px;\n",
              "    }\n",
              "\n",
              "    [theme=dark] .colab-df-convert {\n",
              "      background-color: #3B4455;\n",
              "      fill: #D2E3FC;\n",
              "    }\n",
              "\n",
              "    [theme=dark] .colab-df-convert:hover {\n",
              "      background-color: #434B5C;\n",
              "      box-shadow: 0px 1px 3px 1px rgba(0, 0, 0, 0.15);\n",
              "      filter: drop-shadow(0px 1px 2px rgba(0, 0, 0, 0.3));\n",
              "      fill: #FFFFFF;\n",
              "    }\n",
              "  </style>\n",
              "\n",
              "    <script>\n",
              "      const buttonEl =\n",
              "        document.querySelector('#df-e10ab0b8-9470-442a-8ec1-609cade31ba7 button.colab-df-convert');\n",
              "      buttonEl.style.display =\n",
              "        google.colab.kernel.accessAllowed ? 'block' : 'none';\n",
              "\n",
              "      async function convertToInteractive(key) {\n",
              "        const element = document.querySelector('#df-e10ab0b8-9470-442a-8ec1-609cade31ba7');\n",
              "        const dataTable =\n",
              "          await google.colab.kernel.invokeFunction('convertToInteractive',\n",
              "                                                    [key], {});\n",
              "        if (!dataTable) return;\n",
              "\n",
              "        const docLinkHtml = 'Like what you see? Visit the ' +\n",
              "          '<a target=\"_blank\" href=https://colab.research.google.com/notebooks/data_table.ipynb>data table notebook</a>'\n",
              "          + ' to learn more about interactive tables.';\n",
              "        element.innerHTML = '';\n",
              "        dataTable['output_type'] = 'display_data';\n",
              "        await google.colab.output.renderOutput(dataTable, element);\n",
              "        const docLink = document.createElement('div');\n",
              "        docLink.innerHTML = docLinkHtml;\n",
              "        element.appendChild(docLink);\n",
              "      }\n",
              "    </script>\n",
              "  </div>\n",
              "\n",
              "\n",
              "<div id=\"df-9994e498-d9f0-48d5-8610-c3472977bd68\">\n",
              "  <button class=\"colab-df-quickchart\" onclick=\"quickchart('df-9994e498-d9f0-48d5-8610-c3472977bd68')\"\n",
              "            title=\"Suggest charts\"\n",
              "            style=\"display:none;\">\n",
              "\n",
              "<svg xmlns=\"http://www.w3.org/2000/svg\" height=\"24px\"viewBox=\"0 0 24 24\"\n",
              "     width=\"24px\">\n",
              "    <g>\n",
              "        <path d=\"M19 3H5c-1.1 0-2 .9-2 2v14c0 1.1.9 2 2 2h14c1.1 0 2-.9 2-2V5c0-1.1-.9-2-2-2zM9 17H7v-7h2v7zm4 0h-2V7h2v10zm4 0h-2v-4h2v4z\"/>\n",
              "    </g>\n",
              "</svg>\n",
              "  </button>\n",
              "\n",
              "<style>\n",
              "  .colab-df-quickchart {\n",
              "      --bg-color: #E8F0FE;\n",
              "      --fill-color: #1967D2;\n",
              "      --hover-bg-color: #E2EBFA;\n",
              "      --hover-fill-color: #174EA6;\n",
              "      --disabled-fill-color: #AAA;\n",
              "      --disabled-bg-color: #DDD;\n",
              "  }\n",
              "\n",
              "  [theme=dark] .colab-df-quickchart {\n",
              "      --bg-color: #3B4455;\n",
              "      --fill-color: #D2E3FC;\n",
              "      --hover-bg-color: #434B5C;\n",
              "      --hover-fill-color: #FFFFFF;\n",
              "      --disabled-bg-color: #3B4455;\n",
              "      --disabled-fill-color: #666;\n",
              "  }\n",
              "\n",
              "  .colab-df-quickchart {\n",
              "    background-color: var(--bg-color);\n",
              "    border: none;\n",
              "    border-radius: 50%;\n",
              "    cursor: pointer;\n",
              "    display: none;\n",
              "    fill: var(--fill-color);\n",
              "    height: 32px;\n",
              "    padding: 0;\n",
              "    width: 32px;\n",
              "  }\n",
              "\n",
              "  .colab-df-quickchart:hover {\n",
              "    background-color: var(--hover-bg-color);\n",
              "    box-shadow: 0 1px 2px rgba(60, 64, 67, 0.3), 0 1px 3px 1px rgba(60, 64, 67, 0.15);\n",
              "    fill: var(--button-hover-fill-color);\n",
              "  }\n",
              "\n",
              "  .colab-df-quickchart-complete:disabled,\n",
              "  .colab-df-quickchart-complete:disabled:hover {\n",
              "    background-color: var(--disabled-bg-color);\n",
              "    fill: var(--disabled-fill-color);\n",
              "    box-shadow: none;\n",
              "  }\n",
              "\n",
              "  .colab-df-spinner {\n",
              "    border: 2px solid var(--fill-color);\n",
              "    border-color: transparent;\n",
              "    border-bottom-color: var(--fill-color);\n",
              "    animation:\n",
              "      spin 1s steps(1) infinite;\n",
              "  }\n",
              "\n",
              "  @keyframes spin {\n",
              "    0% {\n",
              "      border-color: transparent;\n",
              "      border-bottom-color: var(--fill-color);\n",
              "      border-left-color: var(--fill-color);\n",
              "    }\n",
              "    20% {\n",
              "      border-color: transparent;\n",
              "      border-left-color: var(--fill-color);\n",
              "      border-top-color: var(--fill-color);\n",
              "    }\n",
              "    30% {\n",
              "      border-color: transparent;\n",
              "      border-left-color: var(--fill-color);\n",
              "      border-top-color: var(--fill-color);\n",
              "      border-right-color: var(--fill-color);\n",
              "    }\n",
              "    40% {\n",
              "      border-color: transparent;\n",
              "      border-right-color: var(--fill-color);\n",
              "      border-top-color: var(--fill-color);\n",
              "    }\n",
              "    60% {\n",
              "      border-color: transparent;\n",
              "      border-right-color: var(--fill-color);\n",
              "    }\n",
              "    80% {\n",
              "      border-color: transparent;\n",
              "      border-right-color: var(--fill-color);\n",
              "      border-bottom-color: var(--fill-color);\n",
              "    }\n",
              "    90% {\n",
              "      border-color: transparent;\n",
              "      border-bottom-color: var(--fill-color);\n",
              "    }\n",
              "  }\n",
              "</style>\n",
              "\n",
              "  <script>\n",
              "    async function quickchart(key) {\n",
              "      const quickchartButtonEl =\n",
              "        document.querySelector('#' + key + ' button');\n",
              "      quickchartButtonEl.disabled = true;  // To prevent multiple clicks.\n",
              "      quickchartButtonEl.classList.add('colab-df-spinner');\n",
              "      try {\n",
              "        const charts = await google.colab.kernel.invokeFunction(\n",
              "            'suggestCharts', [key], {});\n",
              "      } catch (error) {\n",
              "        console.error('Error during call to suggestCharts:', error);\n",
              "      }\n",
              "      quickchartButtonEl.classList.remove('colab-df-spinner');\n",
              "      quickchartButtonEl.classList.add('colab-df-quickchart-complete');\n",
              "    }\n",
              "    (() => {\n",
              "      let quickchartButtonEl =\n",
              "        document.querySelector('#df-9994e498-d9f0-48d5-8610-c3472977bd68 button');\n",
              "      quickchartButtonEl.style.display =\n",
              "        google.colab.kernel.accessAllowed ? 'block' : 'none';\n",
              "    })();\n",
              "  </script>\n",
              "</div>\n",
              "\n",
              "    </div>\n",
              "  </div>\n"
            ],
            "application/vnd.google.colaboratory.intrinsic+json": {
              "type": "dataframe",
              "variable_name": "Vaccinated",
              "summary": "{\n  \"name\": \"Vaccinated\",\n  \"rows\": 100,\n  \"fields\": [\n    {\n      \"column\": \"Unnamed: 0\",\n      \"properties\": {\n        \"dtype\": \"number\",\n        \"std\": 29,\n        \"min\": 0,\n        \"max\": 99,\n        \"num_unique_values\": 100,\n        \"samples\": [\n          83,\n          53,\n          70\n        ],\n        \"semantic_type\": \"\",\n        \"description\": \"\"\n      }\n    },\n    {\n      \"column\": \"Vaccinated\",\n      \"properties\": {\n        \"dtype\": \"category\",\n        \"num_unique_values\": 2,\n        \"samples\": [\n          \"Yes\",\n          \"No\"\n        ],\n        \"semantic_type\": \"\",\n        \"description\": \"\"\n      }\n    }\n  ]\n}"
            }
          },
          "metadata": {},
          "execution_count": 37
        }
      ]
    },
    {
      "cell_type": "markdown",
      "source": [
        "#Question 4a.\n",
        "What is the proportion of people who have received the vaccine (based on the dataset you have)?"
      ],
      "metadata": {
        "id": "80ObUxlbNf9x"
      },
      "id": "80ObUxlbNf9x"
    },
    {
      "cell_type": "code",
      "source": [
        "#Calculate the proportion of people who have received the vaccine\n",
        "vaccinated_proportion = Vaccinated['Vaccinated'].value_counts(normalize=True)['Yes']\n",
        "\n",
        "print(f\"The proportion of people who have received the vaccine is: {vaccinated_proportion:.2f}\")"
      ],
      "metadata": {
        "colab": {
          "base_uri": "https://localhost:8080/"
        },
        "id": "tvo38miuOJTW",
        "outputId": "2a531a4d-77c1-4dd7-d68d-e6b31c37cc56"
      },
      "id": "tvo38miuOJTW",
      "execution_count": 38,
      "outputs": [
        {
          "output_type": "stream",
          "name": "stdout",
          "text": [
            "The proportion of people who have received the vaccine is: 0.41\n"
          ]
        }
      ]
    },
    {
      "cell_type": "markdown",
      "source": [
        "#Question 4b.\n",
        "\n",
        "Calculate a 95% confidence interval for the proportion of vaccinated individuals. What does this interval tell us about the likely range of vaccination coverage in the entire population? Show your work."
      ],
      "metadata": {
        "id": "S7YgIjnENnSt"
      },
      "id": "S7YgIjnENnSt"
    },
    {
      "cell_type": "code",
      "source": [
        "# Calculate the sample proportion of vaccinated individuals\n",
        "sample_proportion = Vaccinated['Vaccinated'].value_counts(normalize=True)['Yes']\n",
        "\n",
        "# Calculate the sample size\n",
        "n = len(Vaccinated)\n",
        "\n",
        "# Calculate the standard error\n",
        "standard_error = np.sqrt((sample_proportion * (1 - sample_proportion)) / n)\n",
        "\n",
        "# Calculate the z-score for a 95% confidence interval\n",
        "z = norm.ppf(0.975)  # 0.975 for a two-tailed test\n",
        "\n",
        "# Calculate the margin of error\n",
        "margin_of_error = z * standard_error\n",
        "\n",
        "# Calculate the lower and upper bounds of the confidence interval\n",
        "lower_bound = sample_proportion - margin_of_error\n",
        "upper_bound = sample_proportion + margin_of_error\n",
        "\n",
        "print(f\"The 95% confidence interval for the proportion of vaccinated individuals is: [{lower_bound:.2f}, {upper_bound:.2f}]\")"
      ],
      "metadata": {
        "colab": {
          "base_uri": "https://localhost:8080/"
        },
        "id": "OeQAusx7OKJZ",
        "outputId": "77cb005d-0286-4eef-f94a-e3d0c8f3116d"
      },
      "id": "OeQAusx7OKJZ",
      "execution_count": 39,
      "outputs": [
        {
          "output_type": "stream",
          "name": "stdout",
          "text": [
            "The 95% confidence interval for the proportion of vaccinated individuals is: [0.31, 0.51]\n"
          ]
        }
      ]
    },
    {
      "cell_type": "markdown",
      "source": [
        "#Question 4c.\n",
        "\n",
        "What sample size would be required to estimate the proportion of vaccinated individuals in the country with a 95% confidence level and a margin of error of 0.02? Show your work."
      ],
      "metadata": {
        "id": "LBZSNFLQNw6v"
      },
      "id": "LBZSNFLQNw6v"
    },
    {
      "cell_type": "code",
      "source": [
        "import numpy as np\n",
        "from scipy.stats import norm\n",
        "\n",
        "# Specify the desired confidence level and margin of error\n",
        "confidence_level = 0.95\n",
        "margin_of_error = 0.02\n",
        "\n",
        "# Calculate the z-score for the desired confidence level\n",
        "z = norm.ppf((1 + confidence_level) / 2)\n",
        "\n",
        "# Specify the estimated proportion of vaccinated individuals\n",
        "# If unknown, use 0.5 for a conservative estimate\n",
        "estimated_proportion = 0.5\n",
        "\n",
        "# Calculate the required sample size\n",
        "sample_size = np.ceil((z**2 * estimated_proportion * (1 - estimated_proportion)) / (margin_of_error**2))\n",
        "\n",
        "print(f\"The required sample size is: {sample_size}\")\n"
      ],
      "metadata": {
        "colab": {
          "base_uri": "https://localhost:8080/"
        },
        "id": "SclWTU8neRgQ",
        "outputId": "34f78635-bb44-43e3-c713-bad73a0f2123"
      },
      "id": "SclWTU8neRgQ",
      "execution_count": 40,
      "outputs": [
        {
          "output_type": "stream",
          "name": "stdout",
          "text": [
            "The required sample size is: 2401.0\n"
          ]
        }
      ]
    },
    {
      "cell_type": "markdown",
      "source": [
        "#Question 4d.\n",
        "# If you wanted to increase the precision of your estimate, what strategies could you employ to achieve this goal? Explain your reasoning.\n",
        "\n",
        "#Answer\n",
        "##Increasing sample size and lowering variability are two important tactics for raising estimate precision. The trade-offs between cost and precision must be carefully considered, though, as achieving more precision frequently necessitates greater sample numbers and resources.\n",
        "##-Increase the Sample Size\n",
        "##-Use Stratified Sampling\n",
        "##-Reduce Variability\n",
        "##-Use Cluster Sampling\n",
        "##-Increase the Confidence Level\n",
        "##-Reduce Non-Response Bias"
      ],
      "metadata": {
        "id": "it_pOYLdN-In"
      },
      "id": "it_pOYLdN-In"
    },
    {
      "cell_type": "markdown",
      "source": [
        "#Question 4e.\n",
        "\n",
        "Analyze the effectiveness of the current vaccination campaign using the proportion of vaccinated individuals and the confidence interval. What recommendations would you make for future campaigns?\n",
        "\n",
        "1. Based on the percentage of the population who have received vaccinations and the related confidence interval, assess the efficacy of the current vaccination campaign.\n",
        "2. Interpret the confidence interval: the lower bound shows how well the campaign worked to achieve the desired level of vaccination coverage.\n",
        "3. To boost coverage, step up your campaign if the lower bound is low.\n",
        "4. Future initiatives should concentrate on expanding the availability and reach of immunization programs.\n",
        "5. Distribute truthful information to allay vaccination reluctance.\n",
        "6. Engage in focused outreach initiatives and cooperate with neighborhood associations.\n",
        "7. Reach marginalized groups by using mobile clinics for immunizations.\n",
        "8. Regularly track and assess vaccination coverage in order to make data-driven plan adjustments.\n",
        "\n",
        "\n",
        "\n",
        "\n"
      ],
      "metadata": {
        "id": "tlT36zL9OD-k"
      },
      "id": "tlT36zL9OD-k"
    },
    {
      "cell_type": "markdown",
      "source": [
        "#proportion of vaccinated individuals"
      ],
      "metadata": {
        "id": "L2y3DcY6i1iE"
      },
      "id": "L2y3DcY6i1iE"
    },
    {
      "cell_type": "code",
      "source": [
        "import pandas as pd\n",
        "import matplotlib.pyplot as plt\n",
        "import seaborn as sns\n",
        "\n",
        "\n",
        "# Calculate the proportion of vaccinated individuals\n",
        "vaccinated_proportion = Vaccinated['Vaccinated'].value_counts(normalize=True)\n",
        "\n",
        "# Create a bar plot\n",
        "plt.figure(figsize=(8, 6))\n",
        "sns.barplot(x=vaccinated_proportion.index, y=vaccinated_proportion.values, palette='viridis')\n",
        "plt.xlabel('Vaccinated')\n",
        "plt.ylabel('Proportion')\n",
        "plt.title('Proportion of Vaccinated Individuals')\n",
        "plt.show()"
      ],
      "metadata": {
        "colab": {
          "base_uri": "https://localhost:8080/",
          "height": 671
        },
        "id": "VpNFgqFUNwVY",
        "outputId": "f4667b8f-1532-4c1f-c269-27f8d51086d4"
      },
      "id": "VpNFgqFUNwVY",
      "execution_count": 41,
      "outputs": [
        {
          "output_type": "stream",
          "name": "stderr",
          "text": [
            "<ipython-input-41-90ca8fc6de09>:11: FutureWarning: \n",
            "\n",
            "Passing `palette` without assigning `hue` is deprecated and will be removed in v0.14.0. Assign the `x` variable to `hue` and set `legend=False` for the same effect.\n",
            "\n",
            "  sns.barplot(x=vaccinated_proportion.index, y=vaccinated_proportion.values, palette='viridis')\n"
          ]
        },
        {
          "output_type": "display_data",
          "data": {
            "text/plain": [
              "<Figure size 800x600 with 1 Axes>"
            ],
            "image/png": "[encoded data removed]"
          },
          "metadata": {}
        }
      ]
    },
    {
      "cell_type": "code",
      "source": [],
      "metadata": {
        "id": "Xy9xYOWSs-sX"
      },
      "id": "Xy9xYOWSs-sX",
      "execution_count": 41,
      "outputs": []
    },
    {
      "cell_type": "code",
      "source": [],
      "metadata": {
        "id": "T4htkSMWsekN"
      },
      "id": "T4htkSMWsekN",
      "execution_count": 41,
      "outputs": []
    }
  ],
  "metadata": {
    "kernelspec": {
      "display_name": "Python 3 (ipykernel)",
      "language": "python",
      "name": "python3"
    },
    "language_info": {
      "codemirror_mode": {
        "name": "ipython",
        "version": 3
      },
      "file_extension": ".py",
      "mimetype": "text/x-python",
      "name": "python",
      "nbconvert_exporter": "python",
      "pygments_lexer": "ipython3",
      "version": "3.9.12"
    },
    "colab": {
      "provenance": []
    }
  },
  "nbformat": 4,
  "nbformat_minor": 5
}